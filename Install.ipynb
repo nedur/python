{
 "cells": [
  {
   "cell_type": "markdown",
   "id": "2a11e77b",
   "metadata": {},
   "source": [
    "# Instruções para o curso de Introdução ao Python \n",
    "\n",
    "*Projeto de Extensão: Conjuntura Econômica e Social - Universidade Federal do Paraná (UFPR)*\n",
    "\n",
    "*Aulas presenciais nos dias 31/08 e 01/09/22*"
   ]
  },
  {
   "cell_type": "markdown",
   "id": "50ebd977",
   "metadata": {},
   "source": [
    "O curso **Introdução ao Python** tem como objetivo apresentar os elementos básicos da linguagem **Python** (https://www.python.org/), incluindo operações matemáticas básicas, criação de objetos, importação e exportação de dados, manipulação de dados e visualização (gráficos e mapas). O curso foi desenvolvido por economistas e possui foco nas aplicações de Python para economia, em todos os seus ramos de aplicações. \n",
    "\n",
    "O material do curso é livre e está licenciado com uma Licença [CC BY-NC-SA 4.0](https://creativecommons.org/licenses/by-nc-sa/4.0/). Atualizações podem ser consultadas no site do Núcleo de Estudos em Desenvolvimento Urbano e Regional - [**NEDUR**](http://www.nedur.ufpr.br/portal/cursos/) - da Universidade Federal do Paraná (UFPR).\n",
    "\n",
    "Em todo o curso, vamos utilizar o **Jupyter Notebook**, um ambiente de desenvolvimento integrado (IDE - Integrated Development Environment) web, no qual é possível editar e executar documentos em Python. Você poderá acessar o *Jupyter Notebook* instalando a plataforma **Anaconda** (instruções na seção 1), que inclui Python e várias outras ferramentas, ou instalar diretamente o *Jupyter Notebook* (instruções na seção 2). \n",
    "\n",
    "A principal vantagem de instalar a plataforma **Anaconda** está no gerenciamento de pacotes e versões, que nesse caso, fica a \"cargo\" da plataforma. No entanto, a plataforma vem com outras interfaces em Python e também em R, que não serão necessárias caso você não pretenda explorar essas outras possibilidades, e podem gerar problemas, caso você tenha limitações de memória ou performmance no seu computador. Instalando diretamente o interpretador *Python* e o **Jupyter Notebook**, você terá todos os recursos necessários para seguir com o curso.  \n",
    "\n",
    "Após a finalização do curso presencial, todo o material ficará disponível em: http://www.nedur.ufpr.br/portal/cursos. "
   ]
  },
  {
   "cell_type": "markdown",
   "id": "f68b607b",
   "metadata": {},
   "source": [
    "## 1. Instalando a Plataforma Anaconda\n",
    "\n",
    "Para download da Plataforma **Anaconda**, utilize o link abaixo:\n",
    "\n",
    "* [Anaconda](https://www.anaconda.com/)\n",
    "\n",
    "A plataforma **Anaconda** suporta as versões mais recentes de **Python**, além das ferramentas do **RStudio**, e vem com diversos pacotes instalados, facilitando o uso para análise de dados. \n",
    "\n",
    "Siga as instruções de instalação, e em seguida abra a interface usando o *ANACONDA NAVIGATOR* (disponível no menu INICIAR do Windows). Você terá as seguintes opções: \n",
    "\n",
    "![AnacondaNAVIGATOR](AnacondaNAVIGATOR.png)\n",
    "\n",
    "Repare que a plataforma oferece vários aplicativos. Vamos usar o **Jupyter Notebook** (veja ícone na figura acima), um ambiente de desenvolvimento integrado web. Após clicar em **Jupyter Notebook**, seu navegador abrirá com a seguinte tela: \n",
    "\n",
    "![JupyterNotebook1](JupyterNotebook1.png)"
   ]
  },
  {
   "cell_type": "markdown",
   "id": "6d79d2a6",
   "metadata": {},
   "source": [
    "## 2. Instalando o Jupyter Notebook\n",
    "\n",
    "SE VOCÊ PREFERIU **NÃO** INSTALAR A PLATAFORMA **ANACONDA**, pode instalar apenas o **Jupyter Notebook**. \n",
    "\n",
    "Nesse caso, você vai precisar instalar primeiro o interpretador *Python* no seu computador, fazendo o *download* em: \n",
    "\n",
    "* [Python.org](https://www.python.org/downloads/)\n",
    "\n",
    "Se você está usando Windows, basta clicar em \"Download Python 3.10.6\", como na figura abaixo: \n",
    "\n",
    "![Python3_Install1.png](Python3_Install1.png)\n",
    "\n",
    "Ao clicar no arquivo executável baixado, você verá a tela abaixo. Nessa tela, certifique-se de que a opção \"Add Python 3.10 to PATH\" está marcada. Esta opção, permite que você acesse facilmente o interpretador posteriormente. \n",
    "\n",
    "![Python3_Install2.png](Python3_Install2.png)\n",
    "\n",
    "Siga as instruções de instalação, e na última tela (*Setup was successful*), certifique-se de marcar a opção *Disable path length limit*. Esta opção irá evitar problemas futuros relacionados ao tamanho do \"caminho\" de localização dos seus arquivos dentro do *Windows*. \n",
    "\n",
    "![Python3_Install3.png](Python3_Install3.png)\n",
    "\n",
    "Para certificar-se de que o interpretador *Python* foi corretamente instalado no seu computador, abra uma janela de comando (você pode encontrar o *Prompt de Comando* digitando *cmd* no buscador do Windows), e digite o comando: \n",
    "\n",
    "    python --version\n",
    "\n",
    "Se tudo estiver corretamente instalado, aparecerá *Python 3.10.6*, como na tela abaixo:\n",
    "\n",
    "![Python3_Install4.png](Python3_Install4.png)\n",
    "    \n",
    "Com o interpretador corretamente instalado, na mesma tela de comando, você poderá instalar o **Jupyter Notebook** com o comando: \n",
    "\n",
    "    pip install notebook\n",
    "\n",
    "Depois que a instalação estiver completa, para abrir o **Jupyter Notebook**, basta digitar:\n",
    "    \n",
    "    jupyter notebook\n",
    "    \n",
    "Abrirá uma tela no seu navegador, como na figura abaixo: \n",
    "\n",
    "![JupyterNotebook1](JupyterNotebook1.png)"
   ]
  },
  {
   "cell_type": "markdown",
   "id": "fd277887",
   "metadata": {},
   "source": [
    "<div class=\"alert alert-info\"> \n",
    "\n",
    "**Tudo pronto?**\n",
    "\n",
    "Nos vemos dia 31/08, às 13h, no Laboratório 02 do Setor de Ciências Sociais Aplicadas da UFPR!\n",
    "\n",
    "Até breve!\n",
    "\n",
    "Att.,\n",
    "\n",
    "Kênia, Tânia e Vinícius\n",
    "    \n",
    "</div>  "
   ]
  }
 ],
 "metadata": {
  "kernelspec": {
   "display_name": "Python 3 (ipykernel)",
   "language": "python",
   "name": "python3"
  },
  "language_info": {
   "codemirror_mode": {
    "name": "ipython",
    "version": 3
   },
   "file_extension": ".py",
   "mimetype": "text/x-python",
   "name": "python",
   "nbconvert_exporter": "python",
   "pygments_lexer": "ipython3",
   "version": "3.9.12"
  }
 },
 "nbformat": 4,
 "nbformat_minor": 5
}
