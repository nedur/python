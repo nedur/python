{
 "cells": [
  {
   "cell_type": "markdown",
   "id": "9bb73b4d",
   "metadata": {},
   "source": [
    "# 8. Gráficos\n",
    "\n",
    "Para visualização dos dados, vamos utilizar o pacote **pandas** e o **matplotlib**. \n",
    "\n",
    "Novamente, vamos importar o **pandas** e a base de dados de exportações (se você está no mesmo notebook não é necessário importar novamente). "
   ]
  },
  {
   "cell_type": "code",
   "execution_count": null,
   "id": "8277d969",
   "metadata": {},
   "outputs": [],
   "source": [
    "import pandas as pd\n",
    "dexp = pd.read_csv(\"EXP_2019.csv\", sep=';')\n",
    "dexp_mod = dexp[[\"CO_ANO\", \"CO_MES\", \"SG_UF_NCM\", \"VL_FOB\"]]\n",
    "dexp_mod = dexp_mod.rename(\n",
    "    columns={\n",
    "        \"CO_ANO\":\"ano\",\n",
    "        \"CO_MES\":\"mes\",\n",
    "        \"SG_UF_NCM\":\"uf\",\n",
    "        \"VL_FOB\":\"exp\"\n",
    "    }\n",
    ")\n",
    "dexp_mod[\"exp\"] = (dexp_mod[\"exp\"]/1000000000)\n",
    "tabela = dexp_mod.groupby([\"ano\",\"uf\"],  as_index=False).sum()"
   ]
  },
  {
   "cell_type": "markdown",
   "id": "fc7d7a71",
   "metadata": {},
   "source": [
    "No **pandas**, podemos fazer um gráfico de barras com o método `plot()`. Primeiro, precisamos definir as variáveis que serão plotadas (nesse caso, *uf* no eixo horizontal e *exp* no eixo verticial), depois o tipo de gráfico, com *kind=\"bar\"*."
   ]
  },
  {
   "cell_type": "code",
   "execution_count": null,
   "id": "d41626dc",
   "metadata": {
    "scrolled": true
   },
   "outputs": [],
   "source": [
    "tabela.plot(x=\"uf\", y=\"exp\", kind='bar')"
   ]
  },
  {
   "cell_type": "markdown",
   "id": "a9e275ab",
   "metadata": {},
   "source": [
    "Esse gráfico foi feito com o método `plot()` do **Pandas**, porém ele utiliza o **matplotlib** na sua construção.  Alternativamente, o mesmo gráfico pode ser obtido diretamente com o pacote **matplotlib**. \n",
    "\n",
    "Inicialmente, precisamos importá-lo no *Jupyter Notebook* (se você está usando a plataforma **Anaconda** não é necessário instalar o pacote). "
   ]
  },
  {
   "cell_type": "code",
   "execution_count": null,
   "id": "de3ecb8d",
   "metadata": {},
   "outputs": [],
   "source": [
    "import matplotlib.pyplot as plt"
   ]
  },
  {
   "cell_type": "markdown",
   "id": "83ce94d6",
   "metadata": {},
   "source": [
    "<div class=\"alert alert-warning\"> \n",
    "    \n",
    "**Atenção:**\n",
    "\n",
    "Para uma visão completa do pacote, acesse: https://matplotlib.org/\n",
    "\n",
    "</div>    "
   ]
  },
  {
   "cell_type": "markdown",
   "id": "7e70dc4c",
   "metadata": {},
   "source": [
    "Em seguida, podemos utilizar o método `plot.bar()` do matplotlib: "
   ]
  },
  {
   "cell_type": "code",
   "execution_count": null,
   "id": "50baa7e6",
   "metadata": {},
   "outputs": [],
   "source": [
    "tabela.plot.bar(x=\"uf\", y=\"exp\")\n",
    "plt.show()"
   ]
  },
  {
   "cell_type": "markdown",
   "id": "580e8120",
   "metadata": {},
   "source": [
    "Observe que a saída apresenta exatamente o mesmo gráfico. Mas nesse caso, temos várias outras opções!\n",
    "\n",
    "Podemos alterar o gráfico, colocando outras linhas de comando. Por exemplo, podemos alterar a cor do gráfico para azul marinho (*color='navy'*), e o tamanho da figura (*figsize=(10,6)*) alterando os argumentos da função. Ou alterar o título dos eixos, usando as funções *xlabel*, *ylabel*. "
   ]
  },
  {
   "cell_type": "code",
   "execution_count": null,
   "id": "4a409f6a",
   "metadata": {},
   "outputs": [],
   "source": [
    "tabela.plot.bar(x=\"uf\", y=\"exp\", color='navy', figsize=(10,6))\n",
    "plt.xlabel('UF')\n",
    "plt.ylabel('Exportações (bilhões de R$)')\n",
    "plt.show()"
   ]
  },
  {
   "cell_type": "markdown",
   "id": "02801451",
   "metadata": {},
   "source": [
    "Para customizar o gráfico, você também pode usar diferentes estilos, com a função `plt.style.use()`. Você pode consultar os estilos em: https://matplotlib.org/stable/gallery/style_sheets/style_sheets_reference.html"
   ]
  },
  {
   "cell_type": "code",
   "execution_count": null,
   "id": "92afdfdb",
   "metadata": {},
   "outputs": [],
   "source": [
    "plt.style.use('bmh')\n",
    "tabela.plot.bar(x=\"uf\", y=\"exp\", color='navy', figsize=(10,6))\n",
    "plt.xlabel('UF')\n",
    "plt.ylabel('Exportações (bilhões de R$)')\n",
    "plt.show()"
   ]
  },
  {
   "cell_type": "markdown",
   "id": "d561c7dc",
   "metadata": {},
   "source": [
    "Para retornar ao estilo default, use o comando `plt.style.use('default')`"
   ]
  }
 ],
 "metadata": {
  "kernelspec": {
   "display_name": "Python 3 (ipykernel)",
   "language": "python",
   "name": "python3"
  },
  "language_info": {
   "codemirror_mode": {
    "name": "ipython",
    "version": 3
   },
   "file_extension": ".py",
   "mimetype": "text/x-python",
   "name": "python",
   "nbconvert_exporter": "python",
   "pygments_lexer": "ipython3",
   "version": "3.9.12"
  }
 },
 "nbformat": 4,
 "nbformat_minor": 5
}
