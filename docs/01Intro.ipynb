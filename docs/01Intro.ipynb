{
 "cells": [
  {
   "cell_type": "markdown",
   "id": "50ebd977",
   "metadata": {},
   "source": [
    "# 1. Introdução\n",
    "\n",
    "O curso **Introdução ao Python** tem como objetivo apresentar os elementos básicos da linguagem **Python** (https://www.python.org/), incluindo operações matemáticas básicas, criação de objetos, importação e exportação de dados, manipulação de dados e visualização (gráficos e mapas). O curso foi desenvolvido por economistas e possui foco nas aplicações de Python para economia, em todos os seus ramos de aplicações. \n",
    "\n",
    "O material do curso é livre e está licenciado com uma Licença [CC BY-NC-SA 4.0](https://creativecommons.org/licenses/by-nc-sa/4.0/). Atualizações podem ser consultadas no site do Núcleo de Estudos em Desenvolvimento Urbano e Regional - [**NEDUR**](http://www.nedur.ufpr.br/portal/cursos/) - da Universidade Federal do Paraná (UFPR).\n",
    "\n",
    "Em todo o curso, vamos utilizar o **Jupyter Notebook**, um ambiente de desenvolvimento integrado (IDE - Integrated Development Environment) web, no qual é possível editar e executar documentos em Python. Você poderá acessar o *Jupyter Notebook* instalando a plataforma **Anaconda** (instruções na seção 1.2), que inclui Python e várias outras ferramentas, ou instalar diretamente o *Jupyter Notebook* (instruções na seção 1.3). \n",
    "\n",
    "A principal vantagem de instalar a plataforma **Anaconda** está no gerenciamento de pacotes e versões, que nesse caso, fica a \"cargo\" da plataforma. No entando, a plataforma vem com outras interfaces em Python e também em R, que não serão necessárias caso você não pretenda explorar essas outras possibilidades, e podem gerar problemas, caso você tenha limitações de memória ou performmance no seu computador. Instalando diretamente o interpretador *Python* e o **Jupyter Notebook**, você terá todos os recursos necessários para seguir com o curso.  \n",
    "\n",
    "Se preferir começar sem nenhum programa instalado no seu computador, você pode utilizar o [Google Colaboratory](https://colab.research.google.com/). Basta ter uma conta *Google* ativa (instruções de uso também serão apresentadas na Seção 1.4.). \n",
    "\n",
    "Na utilização ou citação de partes do material, referencie da seguinte maneira:\n",
    "\n",
    "SOUZA, K. B., ALBERTI, T., VALE, V. A. **Introdução à Python**. Núcleo de Estudos em Desenvolvimento Urbano e Regional (NEDUR) da Universidade Federal do Paraná (UFPR), Curitiba-PR, 2022. Disponível em: [http://www.nedur.ufpr.br/portal/cursos](http://www.nedur.ufpr.br/portal/cursos/)\n",
    "\n",
    "<b><span style=\"color:red\">Bom curso!</span></b>"
   ]
  },
  {
   "cell_type": "markdown",
   "id": "e72b79b0",
   "metadata": {},
   "source": [
    "## 1.1. Links úteis\n",
    "\n",
    "Antes de iniciar o curso, acesse os *links* abaixo. Você vai encontrar materiais, dicas, exemplos, novidades e muito mais. Esses *links* serão úteis ao longo do seu processo de aprendizado.\n",
    "\n",
    "Segure o <kbd>Ctrl</kbd> para abrir os *links* em novas abas:\n",
    "\n",
    "* [Python](https://www.python.org/)\n",
    "* [Anaconda](https://www.anaconda.com/blog)\n",
    "* [Python cheet sheets](https://www.pythoncheatsheet.org/)\n",
    "\n",
    "Confira também alguns livros, materiais e blogs disponíveis:\n",
    "\n",
    "* [Using Python for Introductory Econometrics](http://www.upfie.net/)\n",
    "* [QuantEcon](https://python-programming.quantecon.org/intro.html)\n",
    "* [Datacamp](https://app.datacamp.com/learn/courses?technologies=Python)"
   ]
  },
  {
   "cell_type": "markdown",
   "id": "f68b607b",
   "metadata": {},
   "source": [
    "## 1.2. Iniciando o Jupyter Notebook\n",
    "\n",
    "### 1.2.1. Com a Plataforma Anaconda\n",
    "\n",
    "Com a plataforma instalada, você terá pelo menos duas opções: usando o *Anaconda Navigator*, ou o *Anaconda Prompt*: \n",
    "\n",
    "1. Ao abrir o **Anaconda Navigator** (disponível no menu INICIAR do Windows), você terá as seguintes opções: \n",
    "\n",
    "![AnacondaNAVIGATOR](AnacondaNAVIGATOR.png)\n",
    "\n",
    "Selecione o **Jupyter Notebook**, e siga para a seção 1.3.!\n",
    "\n",
    "2. Outra alternativa é abrir o **Anaconda Prompt** (também disponível no meu INICIAR do Windows), nesse caso, basta digitar o comando `jupyter notebook`, como na figura abaixo, e em seguida pressionar a tecla `enter`: \n",
    "\n",
    "![AnacondaPrompt](AnacondaPrompt.png)\n",
    "\n",
    "Abrirá uma tela no seu navegador, como mostra a seção 1.3!      "
   ]
  },
  {
   "cell_type": "markdown",
   "id": "6d79d2a6",
   "metadata": {},
   "source": [
    "### 1.2.3. Se você instalou apenas o Jupyter Notebook (sem a Plataforma Anaconda!)\n",
    "\n",
    "Abra uma janela de comando (você pode encontrar o *Prompt de Comando* digitando *cmd* no buscador do Windows), e digite o comando `jupyter notebook`, como na figura abaixo, e em seguida pressionar a tecla `enter`: \n",
    "\n",
    "![PromptWindows](PromptWindows.png)\n",
    "\n",
    "Abrirá uma tela no seu navegador, como mostra a seção 1.3!         "
   ]
  },
  {
   "cell_type": "markdown",
   "id": "fd277887",
   "metadata": {},
   "source": [
    "## 1.3. Primeiros passos no Jupyter Notebook\n",
    "\n",
    "Independente de como você iniciou o **Jupyter Notebook**, o seu navegador irá abrir com a seguinte tela:  \n",
    "\n",
    "![JupyterNotebook1](JupyterNotebook1.png)\n",
    "\n",
    "O diretório de trabalho padrão do **Jupyter Notebook** é a pasta do seu usuário Windows (algo como *C:\\User\\Seu Nome*). Para alterar esse diretório, basta salvar o seu arquivo em outra pasta. No canto supeior direito da página, você pode clicar em *New>Folder*. Nesse caso uma *Untitled Folder* foi incluída no diretório, como mostra a figura abaixo: \n",
    "\n",
    "![JupyterNotebook2](JupyterNotebook2.png)\n",
    "\n",
    "Você pode renomear a pasta clicando na caixa ao lado da pasta e depois em *Rename* no canto superior esquerdo. Aparecerá uma nova janela, como na figura abaixo: \n",
    "\n",
    "![JupyterNotebook3](JupyterNotebook3.png)\n",
    "\n",
    "Após entrar na pasta desejada (esse será o seu **diretório de trabalho**), usando o menu, você pode começar um novo documento, clicando em *New>Python 3(ipykernel)* no canto superior direito da página. A seguinte página será aberta:\n",
    "\n",
    "![JupyterNotebook4](JupyterNotebook4.png)\n",
    "\n",
    "Nessa janela, você poderá digitar seus códigos (comandos) diretamente no **Jupyter Notebook**, assim como incluir comentários usando #.\n",
    "\n",
    "Por exemplo, você pode inserir um cabeçalho com o nome do curso (e outras informações de seu interesse, como seu nome e data). Copie e cole no seu **Jupyter Notebook** o texto abaixo:"
   ]
  },
  {
   "cell_type": "code",
   "execution_count": null,
   "id": "65ec8538",
   "metadata": {},
   "outputs": [],
   "source": [
    "# Introdução à Python\n",
    "# Seu nome\n",
    "# Agosto de 2022"
   ]
  },
  {
   "cell_type": "markdown",
   "id": "e512a5a1",
   "metadata": {},
   "source": [
    "Repare que o texto irá aparecer em verde (como na caixa acima). Nesse caso, como usamos o símbolo # antes do texto, a linguagem Python reconhece essa linha como um comentário e não como um código (comando) executável.\n",
    "\n",
    "Outra informação útil sobre o *Jupyter Notebook* é entender o **comportamento das células**. Enquanto você está editando uma célula, ela está em modo de edição, e aparece um retângulo de bordas verdes em torno da célula. Quando a célula está selecionada, mas não está em modo de edição, a borda fica azul. \n",
    "\n",
    "Para sair do modo de edição, você pode clicar fora da célula, ou clicar no botão `Esc` do seu teclado. Fora do modo de edição, você pode utilizar os atalhos `A` para adicionar uma célula acima, ou `B` para adicionar uma nova célula abaixo. Esses e outros atalhos podem ser consultados no menu, em *Help>Keyboard Shortcuts*. "
   ]
  },
  {
   "cell_type": "markdown",
   "id": "d55fbf1b",
   "metadata": {},
   "source": [
    "### 1.3.1. Markdown\n",
    "\n",
    "Observe também que nos *notebooks* que estamos usando, há algumas células que possuem apenas texto e nenhum código. Essas são células de **Markdown**, uma linguagem de marcação, que permite inserirmos textos, figuras e fórmulas entre os trechos de código. No *Jupyter Notebook*, para alterar uma célula de código para **Markdown**, selecione essa opção no penúltimo ícone do menu, como mostra a figura abaixo: \n",
    "\n",
    "![JupyterNotebook5](JupyterNotebook5.png)\n",
    "\n",
    "Alternativamente, quando estiver editando a célula (a célula estiver com borda verde), você pode clicar na tecla `Esc` (para sair do modo de edição), e `M` para mudar a célula para **Markdown**. "
   ]
  },
  {
   "cell_type": "markdown",
   "id": "22fa1c46",
   "metadata": {},
   "source": [
    "## 1.4. Google Colab\n",
    "\n",
    "Caso você não queira instalar a **Plataforma Anaconda**, uma alternativa é o usar o [Google Colaboratory](https://colab.research.google.com/). Para utilizar basta ter uma conta *Google* ativa. \n",
    "\n",
    "Clicando no link, você verá uma janela semelhante à figura abaixo. Clique em *Novo notebook*, e comece a trabalhar!\n",
    "\n",
    "![Colaboratory](Colaboratory.png)\n",
    "\n",
    "Como mencionado anteriormente, durante o curso, vamos usar o **Jupyter Notebook**. Porém, todos os arquivos `.ipynb` do curso podem ser abertos no **Google Colab**. Os dois ambientes possuem diversas semelhanças nas funcionalidades. Caso opte por utilizar o **Google Colab**, você vai precisar instalar alguns pacotes que já vêm pré-instalados na **Plataforma Anaconda**, então observe os erros, e verifique se todos os pacotes foram instalados. "
   ]
  }
 ],
 "metadata": {
  "kernelspec": {
   "display_name": "Python 3 (ipykernel)",
   "language": "python",
   "name": "python3"
  },
  "language_info": {
   "codemirror_mode": {
    "name": "ipython",
    "version": 3
   },
   "file_extension": ".py",
   "mimetype": "text/x-python",
   "name": "python",
   "nbconvert_exporter": "python",
   "pygments_lexer": "ipython3",
   "version": "3.9.12"
  }
 },
 "nbformat": 4,
 "nbformat_minor": 5
}
