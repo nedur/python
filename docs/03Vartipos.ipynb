{
 "cells": [
  {
   "cell_type": "markdown",
   "id": "9c34b893",
   "metadata": {},
   "source": [
    "# 3. Variáveis e tipos de dados\n",
    "\n",
    "Você pode criar vários tipos de objetos em *Python*, como, por exemplo, variáveis, matrizes, bancos de dados, gráficos, e outros. Vamos começar com o objeto mais simples: variável. \n",
    "\n",
    "## 3.1. Variáveis\n",
    "\n",
    "\"*Uma variável permite que você armazene qualquer valor como um número, texto ou até mesmo objetos maiores.*\"\n",
    "https://python.land/python-tutorial\n",
    "\n",
    "Ao criar uma variável, podemos depois utilizá-la a partir de seu nome, fazendo cálculos ou modificações. Por exemplo, em 2019, a população brasileira (estimada pelo Instituto Brasilieiro de Geografia e Estatística - IBGE) foi de 210.147.125 habitantes. Vamos criar a variável **pop** e atribuir esse número a ela: "
   ]
  },
  {
   "cell_type": "code",
   "execution_count": null,
   "id": "57d8e82c",
   "metadata": {},
   "outputs": [],
   "source": [
    "pop = 210147125"
   ]
  },
  {
   "cell_type": "markdown",
   "id": "fa32567a",
   "metadata": {},
   "source": [
    "Repare que ao executar esse comando não há nenhuma saída. Isso porque, o dado foi apenas armazenado. \n",
    "\n",
    "Podemos retomar esse valor simplesmente digitando: "
   ]
  },
  {
   "cell_type": "code",
   "execution_count": null,
   "id": "1dc3a95b",
   "metadata": {},
   "outputs": [],
   "source": [
    "pop"
   ]
  },
  {
   "cell_type": "markdown",
   "id": "715dd734",
   "metadata": {},
   "source": [
    "Ou:"
   ]
  },
  {
   "cell_type": "code",
   "execution_count": null,
   "id": "a9d05f0b",
   "metadata": {},
   "outputs": [],
   "source": [
    "print(pop)"
   ]
  },
  {
   "cell_type": "markdown",
   "id": "05dd85ae",
   "metadata": {},
   "source": [
    "As duas saídas são equivalentes, porém no segundo caso estamos usando uma *função*. \n",
    "\n",
    "<div class=\"alert alert-warning\">  \n",
    "\n",
    "Uma **função** é um conjunto de códigos que executa alguma operação ou tarefa específica. Esse conjunto de códigos já vem instalado (como é o caso da função `print()`), pode vir com algum pacote ou pode ser criado. \n",
    "    \n",
    "</div>    \n",
    "\n",
    "Vamos falar mais sobre funções e usar muitas outras funções nas seções seguintes. Por enquanto, vamos continuar criando variáveis. \n",
    "\n",
    "Outra variável interessante, também para 2019 é o PIB brasileriro (também calculado pelo IBGE). No mesmo ano, em 2019, o PIB brasileiro foi de 7,3 trilhões de reais, ou 7.389.131 milhões. Vamos salvar esse valor como **PIB_Brasil**:"
   ]
  },
  {
   "cell_type": "code",
   "execution_count": null,
   "id": "9f8943ff",
   "metadata": {},
   "outputs": [],
   "source": [
    "PIB_Brasil = 7389131"
   ]
  },
  {
   "cell_type": "markdown",
   "id": "1e8a27a1",
   "metadata": {},
   "source": [
    "Agora, **podemos utilizar essas duas informações em conjunto para obter o PIB per capita brasileiro.** \n",
    "\n",
    "Lembre-se que o PIB está em milhões de reais, e para o cálulo do PIB per capita você precisará multiplicá-lo por 1.000.000. **Complete o código abaixo:**  "
   ]
  },
  {
   "cell_type": "code",
   "execution_count": null,
   "id": "7419025c",
   "metadata": {},
   "outputs": [],
   "source": [
    "PIB_pc = "
   ]
  },
  {
   "cell_type": "markdown",
   "id": "aa3e1891",
   "metadata": {},
   "source": [
    "**Qual é o valor do PIB per capita?**\n",
    "\n",
    "Você pode tanto vizualisar o resultado, quando manipulá-lo. \n",
    "\n",
    "Você pode também utilizar os operadores lógicos aprendidos na seção anterior com essa variável. Por exemplo, (embora você já saiba a resposta!) verifique se nosso PIB é maior do que 15.000 reais. **Complete o código abaixo:**  "
   ]
  },
  {
   "cell_type": "code",
   "execution_count": null,
   "id": "57a18a65",
   "metadata": {},
   "outputs": [],
   "source": [
    "PIB_pc  "
   ]
  },
  {
   "cell_type": "markdown",
   "id": "f616826a",
   "metadata": {},
   "source": [
    "<div class=\"alert alert-info\"> \n",
    "    \n",
    "**Observações:**\n",
    "\n",
    "Repare alguns pontos interessantes:\n",
    "    \n",
    "1. Os mesmos operadores matemáticos que você aprendeu antes foram utilizados para o cálculo do PIB per capita;\n",
    "    \n",
    "2. Incluímos um número no cálculo, e ele foi compreendido normalmente dentro na operação; \n",
    "    \n",
    "3. Ao utilizar operadores lógicos, o resultado foi uma resposta do tipo *booleano*.\n",
    "    \n",
    "</div>"
   ]
  },
  {
   "cell_type": "markdown",
   "id": "94984574",
   "metadata": {},
   "source": [
    "<div class=\"alert alert-warning\">  \n",
    "    \n",
    "Sobre a criação de variáveis, vale ressaltar, que os nomes podem conter letras, números, underline, porém há algumas restrições. **Os nomes de variáveis não podem:**\n",
    "\n",
    "1.Começar com números;\n",
    "\n",
    "2.Usar \"palavras reservadas\", ou seja, nome de funções, classe de objetos;\n",
    "    \n",
    "*Alguns exemplos de palavras reservadas: False, class, finally, is, return, None, continue , for, lambda, try, True,  def, from, nonlocal, While, and, del, global, not, with, as, elif, if, or, yield, assert, else, import, pass, break, except, in, raise.*\n",
    "\n",
    "3.Possuir espaço em branco: \"uma variavel\", por exemplo. \n",
    "\n",
    "Mais informações sobre convenções de nomeclatura podem ser consultadas em: https://peps.python.org/pep-0008/#naming-conventions \n",
    "\n",
    "</div>\n",
    "\n",
    "Para testar as restrições, tente criar algumas variáveis deste tipo, como: "
   ]
  },
  {
   "cell_type": "code",
   "execution_count": null,
   "id": "e54bc2c2",
   "metadata": {},
   "outputs": [],
   "source": [
    "1x = 10"
   ]
  },
  {
   "cell_type": "code",
   "execution_count": null,
   "id": "49bebf69",
   "metadata": {},
   "outputs": [],
   "source": [
    "class = 10"
   ]
  },
  {
   "cell_type": "code",
   "execution_count": null,
   "id": "294709f4",
   "metadata": {},
   "outputs": [],
   "source": [
    "uma variavel = 50"
   ]
  },
  {
   "cell_type": "markdown",
   "id": "df98e5e0",
   "metadata": {},
   "source": [
    "## 3.2. Tipos de variáveis\n",
    "\n",
    "Por enquanto, todas as variáveis criadas são números. No caso das variáveis *pop* e *PIB_Brasil* esses números são inteiros, enquanto o valor resultado da variável PIB_pc contém casas decimais (não é um número inteiro). Isso implica no tipo de variável criada. Para verificar essa diferença, podemos usar a função `type()`. \n",
    "\n",
    "Para verificar as variáveis criadas anteriormente, digite os seguintes comandos: "
   ]
  },
  {
   "cell_type": "code",
   "execution_count": null,
   "id": "cd681a2e",
   "metadata": {},
   "outputs": [],
   "source": [
    "type(pop)"
   ]
  },
  {
   "cell_type": "code",
   "execution_count": null,
   "id": "460d2e94",
   "metadata": {},
   "outputs": [],
   "source": [
    "type(PIB_Brasil)"
   ]
  },
  {
   "cell_type": "code",
   "execution_count": null,
   "id": "7348a671",
   "metadata": {},
   "outputs": [],
   "source": [
    "type(PIB_pc)"
   ]
  },
  {
   "cell_type": "markdown",
   "id": "bedbef8b",
   "metadata": {},
   "source": [
    "Outros tipos de variáveis são: \n",
    "\n",
    "- String: para texto;\n",
    "- Booleano (Booleans): para nomes lógicos;\n",
    "- Complex: para números complexos (vamos deixar esses de lado por enquanto!). \n",
    "\n",
    "Podemos então criar uma variável com o nome país com o texto *Brasil*. Vamos deixar o nome da variável sem acento para evitar problemas! \n",
    "\n",
    "Essa variável é um *string*, ou *str* como irá mostrar de forma abreviada a saída dessas linhas de código: "
   ]
  },
  {
   "cell_type": "code",
   "execution_count": null,
   "id": "beedfb35",
   "metadata": {},
   "outputs": [],
   "source": [
    "pais = \"Brasil\"\n",
    "type(pais)"
   ]
  },
  {
   "cell_type": "markdown",
   "id": "8266df45",
   "metadata": {},
   "source": [
    "<div class=\"alert alert-info\">\n",
    "\n",
    "**Observação:**\n",
    "    \n",
    "Repare que no caso de uma variável do tipo *string* precisamos declarar o trecho de texto sempre entre aspas. \n",
    "    \n",
    "</div>\n",
    "\n",
    "Vamos também criar uma variável para indicarmos que falamos português e não espanhol, cujo tipo é Booleano (lógico): "
   ]
  },
  {
   "cell_type": "code",
   "execution_count": null,
   "id": "438361a6",
   "metadata": {},
   "outputs": [],
   "source": [
    "portugues = True\n",
    "espanhol = False"
   ]
  },
  {
   "cell_type": "markdown",
   "id": "7766db08",
   "metadata": {},
   "source": [
    "Algo interessante com os diferentes tipos de variáveis é seu comportamento diante de operações lógicas e matemáticas. Por exemplo, o que acontece se somarmos as variáveis \"pais\" e \"espanhol\"? "
   ]
  },
  {
   "cell_type": "code",
   "execution_count": null,
   "id": "4b9eed74",
   "metadata": {},
   "outputs": [],
   "source": [
    "pais + portugues"
   ]
  },
  {
   "cell_type": "markdown",
   "id": "0226abc2",
   "metadata": {},
   "source": [
    "Vamos tentar outras duas somas: "
   ]
  },
  {
   "cell_type": "code",
   "execution_count": null,
   "id": "fbbfac34",
   "metadata": {},
   "outputs": [],
   "source": [
    "1 + portugues"
   ]
  },
  {
   "cell_type": "code",
   "execution_count": null,
   "id": "3400f220",
   "metadata": {},
   "outputs": [],
   "source": [
    "1 + espanhol"
   ]
  },
  {
   "cell_type": "markdown",
   "id": "3480d360",
   "metadata": {},
   "source": [
    "Vamos também deixar claro que estamos na América Latina: "
   ]
  },
  {
   "cell_type": "code",
   "execution_count": null,
   "id": "d3b900e5",
   "metadata": {},
   "outputs": [],
   "source": [
    "local = \" está localizado na América Latina\""
   ]
  },
  {
   "cell_type": "markdown",
   "id": "4f575abd",
   "metadata": {},
   "source": [
    "Agora que temos duas variáveis em *string*, podemos somá-las: "
   ]
  },
  {
   "cell_type": "code",
   "execution_count": null,
   "id": "675709a4",
   "metadata": {},
   "outputs": [],
   "source": [
    "pais + local"
   ]
  },
  {
   "cell_type": "markdown",
   "id": "a9ca37c1",
   "metadata": {},
   "source": [
    "Podemos usar a função print para melhorar a frase: "
   ]
  },
  {
   "cell_type": "code",
   "execution_count": null,
   "id": "5d4448f4",
   "metadata": {},
   "outputs": [],
   "source": [
    "print(\"O\", pais + local)"
   ]
  },
  {
   "cell_type": "markdown",
   "id": "2201b8e4",
   "metadata": {},
   "source": [
    "Para visualizar todas as variáveis criadas, podemos utilizar o comando *%whos*:"
   ]
  },
  {
   "cell_type": "code",
   "execution_count": null,
   "id": "a89681de",
   "metadata": {},
   "outputs": [],
   "source": [
    "%whos"
   ]
  }
 ],
 "metadata": {
  "kernelspec": {
   "display_name": "Python 3 (ipykernel)",
   "language": "python",
   "name": "python3"
  },
  "language_info": {
   "codemirror_mode": {
    "name": "ipython",
    "version": 3
   },
   "file_extension": ".py",
   "mimetype": "text/x-python",
   "name": "python",
   "nbconvert_exporter": "python",
   "pygments_lexer": "ipython3",
   "version": "3.9.12"
  }
 },
 "nbformat": 4,
 "nbformat_minor": 5
}
