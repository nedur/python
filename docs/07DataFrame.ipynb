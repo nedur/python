{
 "cells": [
  {
   "cell_type": "markdown",
   "id": "31e1986c",
   "metadata": {},
   "source": [
    "# 7. Data Frames \n",
    "\n",
    "## 7.1. Definição\n",
    "\n",
    "Em síntese, um **data frame** consiste em uma tabela de dados capaz de armazenar diferentes classes de dados nas suas colunas. \n",
    "\n",
    "Para ver um exemplo de *data frame*, podemos usar os dados do livro **Introdução à Econometria: uma abordagem moderna** de autoria de Jeffrey M. Wooldridge.\n",
    "\n",
    "Para tal, precisamos instalar o pacote **wooldridge**. \n",
    "\n",
    "Uma forma de instalar é utilizando o **Jupyter Notebook** (ou o **Google Colaboratory**) e digitando o comando: \n",
    "\n",
    "    !pip install wooldridge\n",
    "\n",
    "Ou, com a plataforma **Anaconda** aberta, abra o prompt de comando, clicando no botão *Launch* em *CMD.exe Prompt*, como mostra a figura abaixo: \n",
    "\n",
    "![AnacondaNAVIGATOR_prompt](AnacondaNAVIGATOR_prompt.png)\n",
    "\n",
    "Abrirá uma janela, como abaixo: \n",
    "\n",
    "![Prompt_Anaconda](Prompt_Anaconda.png) \n",
    "\n",
    "Nessa janela utilize o comando: \n",
    "\n",
    "    pip install wooldridge\n",
    "\n",
    "<div class=\"alert alert-warning\"> \n",
    "    \n",
    "Observe que na janela de comando não há o símbolo de exclamação no início! \n",
    "\n",
    "</div>\n",
    "\n",
    "Após digitar o comando, pressione `enter`. \n",
    "\n",
    "<div class=\"alert alert-info\"> \n",
    "    \n",
    "**Observação:**\n",
    "\n",
    "Mais informações sobre a instalação e o conteúdo desse pacote pode ser encontradas [aqui](https://pypi.org/project/wooldridge/).\n",
    "    \n",
    "</div>\n",
    "\n",
    "De volta ao **Jupyter Notebook**, para acessar o pacote, precisamos usar o seguinte comando: "
   ]
  },
  {
   "cell_type": "code",
   "execution_count": null,
   "id": "a22e293c",
   "metadata": {},
   "outputs": [],
   "source": [
    "import wooldridge as wd"
   ]
  },
  {
   "cell_type": "markdown",
   "id": "597e191d",
   "metadata": {},
   "source": [
    "O pacote contém vários dados. \n",
    "\n",
    "Como exemplo, faça leitura da base de dados **wage1** com a função `wd.data()`(observe que *wd* foi a sigla utilizada quando importamos os dados do pacote *wooldridge*):"
   ]
  },
  {
   "cell_type": "code",
   "execution_count": null,
   "id": "669df8ad",
   "metadata": {},
   "outputs": [],
   "source": [
    "wage1 = wd.data('wage1')"
   ]
  },
  {
   "cell_type": "markdown",
   "id": "ddd95f28",
   "metadata": {},
   "source": [
    "Para ver os dados: "
   ]
  },
  {
   "cell_type": "code",
   "execution_count": null,
   "id": "d88289d6",
   "metadata": {},
   "outputs": [],
   "source": [
    "wage1"
   ]
  },
  {
   "cell_type": "markdown",
   "id": "a3288855",
   "metadata": {},
   "source": [
    "Observe que a primeira coluna indica o número da observação (esse número é chamado de índice - *index* - dos dados), e a primeira linha refere-se ao nome das variáveis. \n",
    "\n",
    "No total (contando a primeira linha e a primeira coluna), a base de dados conta com 526 linhas e 24 colunas. \n",
    "\n",
    "Alternativamente, podemos acessar essa informação com o atributo `shape`:"
   ]
  },
  {
   "cell_type": "code",
   "execution_count": null,
   "id": "8396261d",
   "metadata": {},
   "outputs": [],
   "source": [
    "wage1.shape"
   ]
  },
  {
   "cell_type": "markdown",
   "id": "b03dbeb5",
   "metadata": {},
   "source": [
    "**Qual é o tipo de dado? Insira uma célula de comando abaixo e utilizde a função `type()` para descobrir.**"
   ]
  },
  {
   "cell_type": "markdown",
   "id": "abe80be9",
   "metadata": {},
   "source": [
    "O **Pandas** é um pacote Python que permite realizar manipulações e análises de dados. Se você está utilizando Anaconda, o pacote já está instalado na sua máquina. \n",
    "\n",
    "Caso você não esteja será necessário utilizar o comando: \n",
    "\n",
    "    !pip install pandas\n",
    "\n",
    "O tipo do dado que estamos usando indica que você está usando um *Data Frame* desse pacote. \n",
    "\n",
    "Para sabermos mais informações sobre os dados, podemos utilizar o método `info()`: "
   ]
  },
  {
   "cell_type": "code",
   "execution_count": null,
   "id": "586718d9",
   "metadata": {},
   "outputs": [],
   "source": [
    "wage1.info()"
   ]
  },
  {
   "cell_type": "markdown",
   "id": "58c94244",
   "metadata": {},
   "source": [
    "<div class=\"alert alert-info\"> \n",
    "    \n",
    "**Observação:**\n",
    "    \n",
    "Um método se refere a uma função que é parte de uma classe. Nesse caso, `.info()` é um método que está ligado a objetos do tipo *Data Frame*. Uma função pode ser utilizada em qualquer instancia ou objeto de qualquer classe. Assim, todos os métodos são funções, mas nem todas funções são métodos. \n",
    "\n",
    "Fonte: [datacamp](https://www.datacamp.com/tutorial/functions-python-tutorial#functions-in-python)\n",
    "\n",
    "</div>\n",
    "\n",
    "A saída nos mostra todas as variáveis, a quantidadade de entradas não nulas e o tipo dos dados em cada coluna."
   ]
  },
  {
   "cell_type": "markdown",
   "id": "638e4b39",
   "metadata": {},
   "source": [
    "Outra informação importante nesse caso, são as descrições das variáveis, para acessar essas descrições no pacote **wooldridge** podemos utilizar os seguintes comandos: "
   ]
  },
  {
   "cell_type": "code",
   "execution_count": null,
   "id": "ab755f52",
   "metadata": {},
   "outputs": [],
   "source": [
    "from wooldridge import dataWoo\n",
    "dataWoo('wage1', description=True)"
   ]
  },
  {
   "cell_type": "markdown",
   "id": "37af149c",
   "metadata": {},
   "source": [
    "Agora que já entendemos um pouco da estrutura dos dados, podemos começar a analisar suas informações. Uma forma rápida de acessar estatísticas descritivas (número de observações, média, desvio padrão, mínimo, quantis e máximo) sobre cada variável é o uso do método `describe()`:"
   ]
  },
  {
   "cell_type": "code",
   "execution_count": null,
   "id": "2893857f",
   "metadata": {},
   "outputs": [],
   "source": [
    "wage1.describe()"
   ]
  },
  {
   "cell_type": "markdown",
   "id": "28b9bc32",
   "metadata": {},
   "source": [
    "## 7.2. Selecionando informações em um Data Frame\n",
    "\n",
    "Existem diversas formas para selecionar partes de um **Data Frame**.\n",
    "\n",
    "Por exemplo, para selecionar a segunda linha da terceira coluna da *data frame* **wage1**, podemos usar o método `iloc`:"
   ]
  },
  {
   "cell_type": "code",
   "execution_count": null,
   "id": "64142dfc",
   "metadata": {},
   "outputs": [],
   "source": [
    "wage1.iloc[1, 2]"
   ]
  },
  {
   "cell_type": "markdown",
   "id": "96893f17",
   "metadata": {},
   "source": [
    "Lembre-se que a indexação em Python começa em zero. Logo, a segunda linha tem índice 1, a terceira coluna tem índice 2, e assim por diante.\n",
    "\n",
    "De forma equivalente, podemos utilizar o nome da coluna, por meio do método `loc`: "
   ]
  },
  {
   "cell_type": "code",
   "execution_count": null,
   "id": "0b326a1e",
   "metadata": {},
   "outputs": [],
   "source": [
    "wage1.loc[1, 'exper']"
   ]
  },
  {
   "cell_type": "markdown",
   "id": "63c1bd58",
   "metadata": {},
   "source": [
    "Para selecionar somente as colunas \"wage\" e \"educ\" pelo nome, podemos usar:"
   ]
  },
  {
   "cell_type": "code",
   "execution_count": null,
   "id": "fab59b2e",
   "metadata": {},
   "outputs": [],
   "source": [
    "wage1.loc[1, ['wage', 'educ']]"
   ]
  },
  {
   "cell_type": "markdown",
   "id": "5eb00b70",
   "metadata": {},
   "source": [
    "Podemos selecionar todas as informações de uma variável. Por exemplo, para selecionar apenas a variável *educ* do *data frame*, podemos usar a seguinte sintaxe:"
   ]
  },
  {
   "cell_type": "code",
   "execution_count": null,
   "id": "c1f3f1af",
   "metadata": {},
   "outputs": [],
   "source": [
    "wage1[['educ']]"
   ]
  },
  {
   "cell_type": "markdown",
   "id": "800e0125",
   "metadata": {},
   "source": [
    "Observe que utilizamos colchetes duas vezes. Isso porque, estamos criando uma lista de colunas a serem selecionadas do banco de dados. O resultado é um subconjunto, que também possui o formato de data frame. Você pode selecionar quantas colunas desejar. \n",
    "\n",
    "Também podemos utilizar algum critério lógico para selecionar as linhas. Por exemplo, suponha que você queira observar apenas pessoas com mais de 30 anos de experiência no trabalho. Nesse caso, você utilizar o seguinte comando: "
   ]
  },
  {
   "cell_type": "code",
   "execution_count": null,
   "id": "d6237124",
   "metadata": {},
   "outputs": [],
   "source": [
    "wage1[wage1[\"tenure\"]>30]"
   ]
  },
  {
   "cell_type": "markdown",
   "id": "e0d70181",
   "metadata": {},
   "source": [
    "Observe que esse comando tem duas partes. Dentro do colchete estamos utilizando um operador lógico que indicara *True* ou *False* em cada linha. Depois, estamos pedindo para selecionar apenas *True*. \n",
    "\n",
    "Para que fique mais claro, observe o que ocorre quando usamos apenas o comando que está dentro dos colchetes: "
   ]
  },
  {
   "cell_type": "code",
   "execution_count": null,
   "id": "dbb8c962",
   "metadata": {},
   "outputs": [],
   "source": [
    "wage1[\"tenure\"]>30"
   ]
  },
  {
   "cell_type": "markdown",
   "id": "30cf2b9e",
   "metadata": {},
   "source": [
    "Temos uma lista de booleanos, informando se para cada linha é válido que a experiência é maior do que 30. Ou seja, quando colocamos o comando completo (`wage1[wage1[\"tenure\"]>30]`) estamos selecionando as linhas do Data Frame **wage1** para as quais (`[wage1[\"tenure\"]>30]`) é verdadeiro. \n",
    "\n",
    "Outras três funções muito usadas em data frames são: `head()`(para visualizar as primeiras 5 linhas da base de dados) e `tail()` (para visualizar as últimas 5 linhas da base de dados)."
   ]
  },
  {
   "cell_type": "code",
   "execution_count": null,
   "id": "6e8a94ad",
   "metadata": {},
   "outputs": [],
   "source": [
    "wage1.head()"
   ]
  },
  {
   "cell_type": "code",
   "execution_count": null,
   "id": "cf342da0",
   "metadata": {},
   "outputs": [],
   "source": [
    "wage1.tail()"
   ]
  },
  {
   "cell_type": "markdown",
   "id": "36cd167a",
   "metadata": {},
   "source": [
    "Outra função muito útil no pandas é a `groupby()`. \n",
    "\n",
    "Suponha que você queira verificar quais são as diferenças entre homens e mulheres nessa base, você poderá utilizar: "
   ]
  },
  {
   "cell_type": "code",
   "execution_count": null,
   "id": "b4ca0538",
   "metadata": {},
   "outputs": [],
   "source": [
    "wage1.groupby(['female']).mean()"
   ]
  },
  {
   "cell_type": "markdown",
   "id": "d7a4c970",
   "metadata": {},
   "source": [
    "Nesse caso, estamos verificando as informações para toda a base de dados. Pode ser mais interessante selecionar apenas uma variável, os salários por exemplo: "
   ]
  },
  {
   "cell_type": "code",
   "execution_count": null,
   "id": "cce26aea",
   "metadata": {},
   "outputs": [],
   "source": [
    "wage1[['wage','female']].groupby(['female']).mean()"
   ]
  },
  {
   "cell_type": "markdown",
   "id": "f6d94659",
   "metadata": {},
   "source": [
    "**Quais são as médias de salários por nível de educação? Insira uma célula abaixo para responder a essa questão!**"
   ]
  },
  {
   "cell_type": "markdown",
   "id": "1c1d9fd9",
   "metadata": {},
   "source": [
    "É importante ressaltar, que vários métodos podem ser utilizados combinados à função `groupby`, por exemplo, `sum()`, `max()` ou `min()`. \n",
    "\n",
    "**Insira uma célula abaixo e experimente encontrar quais são os maiores valores nessa base de dados para a variável de experiência (*tenure*) entre homens e mulheres.**"
   ]
  },
  {
   "cell_type": "markdown",
   "id": "1e89d27a",
   "metadata": {},
   "source": [
    "## 7.3. Importação de dados\n",
    "\n",
    "Para **Data Frames**, a leitura, manipulação e exportação de diversos formatos de dados (CSV, XLS, XLSX, TXT, DTA, entre outros) pode ser feita utilizando o **pandas**. \n",
    "\n",
    "Inicialmente, você precisará importar o pandas com o seguinte comando:  "
   ]
  },
  {
   "cell_type": "code",
   "execution_count": null,
   "id": "23a8b409",
   "metadata": {},
   "outputs": [],
   "source": [
    "import pandas as pd"
   ]
  },
  {
   "cell_type": "markdown",
   "id": "879a860c",
   "metadata": {},
   "source": [
    "### 7.3.1. Arquivos CSV\n",
    "\n",
    "Como exemplo, vamos usar a **Base de Dados do Comércio Exterior Brasileiro (Comex Stat)** disponibilizada pelo Governo Federal (Ministério da Economia) em [www.gov.br](https://www.gov.br/produtividade-e-comercio-exterior/pt-br/assuntos/comercio-exterior/estatisticas/base-de-dados-bruta). Você pode baixar os dados e salvar no seu diretório de trabalho. \n",
    "\n",
    "Nos exemplos abaixo, vamos usar a base de dados de Exportações detalhada por NCM (Nomenclatura Comum do Mercosul) para o ano 2019.\n",
    "\n",
    "<div class=\"alert alert-info\"> \n",
    "    \n",
    "**Observação:**\n",
    "\n",
    "Os dados também estão disponíveis [**AQUI**](https://nedurcode.com/python/EXP_2019.rar) em zip. Extraia os dados no seu diretório de trabalho!\n",
    "    \n",
    "</div>\n",
    "\n",
    "O arquivo CSV disponibilizado no Comex Stat utiliza separador ponto e vírgula (;) e apresenta o seguinte detalhamento:\n",
    "\n",
    "* Ano\n",
    "* Mês\n",
    "* Código NCM\n",
    "* Código da unidade estatística\n",
    "* Código de país de destino/origem do produto\n",
    "* Código da UF de origem/destino do produto\n",
    "* Código da via de transporte\n",
    "* Código da URF de embarque/desembarque\n",
    "* Quantidade estatística\n",
    "* Quilograma líquido\n",
    "* Valor dólar FOB (US$)\n",
    "\n",
    "Para importar os dados, podemos usar a função `pd.read_csv()` do pacote **pandas**. Para tal, vamos criar um objeto **dexp** (dados de exportações) da seguinte forma:"
   ]
  },
  {
   "cell_type": "code",
   "execution_count": null,
   "id": "f10470d3",
   "metadata": {},
   "outputs": [],
   "source": [
    "dexp = pd.read_csv(\"EXP_2019.csv\", sep=';')"
   ]
  },
  {
   "cell_type": "markdown",
   "id": "6eb96612",
   "metadata": {},
   "source": [
    "Observe que precisamos informar que o separador é por ponto e vírgula, o *default* é vírgula. Para verificar o início dos dados, podemos utilizar o método `head()`:"
   ]
  },
  {
   "cell_type": "code",
   "execution_count": null,
   "id": "0140e270",
   "metadata": {},
   "outputs": [],
   "source": [
    "dexp.head()"
   ]
  },
  {
   "cell_type": "markdown",
   "id": "6877ab4a",
   "metadata": {},
   "source": [
    "<div class=\"alert alert-info\"> \n",
    "    \n",
    "**Lembrete:**\n",
    "    \n",
    "Para verificar os argumentos da função, basta usar o help: \n",
    "    ```\n",
    "    help(pd.read_csv)\n",
    "    ```\n",
    "</div>"
   ]
  },
  {
   "cell_type": "markdown",
   "id": "f40843f2",
   "metadata": {},
   "source": [
    "Para verificar o tamanho da base de dados podemos utilizar o método `shape`: "
   ]
  },
  {
   "cell_type": "code",
   "execution_count": null,
   "id": "149c71d6",
   "metadata": {},
   "outputs": [],
   "source": [
    "dexp.shape"
   ]
  },
  {
   "cell_type": "markdown",
   "id": "96dbf8d0",
   "metadata": {},
   "source": [
    "Os dados contam com 1.416.884 linhas e 11 colunas.\n",
    "\n",
    "<div class=\"alert alert-warning\">\n",
    "\n",
    "**Atenção:** \n",
    "\n",
    "Vamos trabalhar com essa base de dados também na Seção 7.4 - Manipulação de dados. \n",
    "\n",
    "</div>"
   ]
  },
  {
   "cell_type": "markdown",
   "id": "0ae6603b",
   "metadata": {},
   "source": [
    "### 7.3.2. Arquivos XLS e XLSX\n",
    "\n",
    "Assim como o caso do CSV, vamos usar o **pandas** para ler o arquivo em *Excel*. \n",
    "\n",
    "Como exemplo, faça o *download* do arquivo EXP2019_ComexStat [**AQUI**](https://nedurcode.com/python/EXP2019_ComexStat.xlsx).\n",
    "\n",
    "<div class=\"alert alert-info\">\n",
    "\n",
    "**Observação:** \n",
    "    \n",
    "Após fazer o *download*, salve o arquivo XLSX no seu diretório de trabalho.\n",
    "\n",
    "</div>\n",
    "\n",
    "Para importar os dados, podemos usar a função `pd.read_excel`. Para tal, especifique um objeto **dados** com:"
   ]
  },
  {
   "cell_type": "code",
   "execution_count": null,
   "id": "7eeb3ed7",
   "metadata": {},
   "outputs": [],
   "source": [
    "dados = pd.read_excel(\"EXP2019_ComexStat.xlsx\")"
   ]
  },
  {
   "cell_type": "markdown",
   "id": "5c8ebebb",
   "metadata": {},
   "source": [
    "Novamente, podemos verificar a base, digitando seu nome: "
   ]
  },
  {
   "cell_type": "code",
   "execution_count": null,
   "id": "7fc54434",
   "metadata": {},
   "outputs": [],
   "source": [
    "dados"
   ]
  },
  {
   "cell_type": "markdown",
   "id": "e249d134",
   "metadata": {},
   "source": [
    "Ou, verificar o tamanho, com o atributo `shape`:"
   ]
  },
  {
   "cell_type": "code",
   "execution_count": null,
   "id": "70cc4b1f",
   "metadata": {},
   "outputs": [],
   "source": [
    "dados.shape"
   ]
  },
  {
   "cell_type": "markdown",
   "id": "a8d04382",
   "metadata": {},
   "source": [
    "Na próxima seção, faremos alterações nessa base de dados. "
   ]
  },
  {
   "cell_type": "markdown",
   "id": "1f0e5e7d",
   "metadata": {},
   "source": [
    "## 7.4. Manipulação de dados\n",
    "\n",
    "Conforme destacado acima, a base de dados de exportações conta com muitas observações e variáveis. Vamos usar o **pandas** para manipular os dados, como por exemplo, selecionar, criar e renomear variáveis, filtrar observações, etc.\n",
    "\n",
    "Para iniciar, vamos visualizar novamente a base de dados dexp da seção anterior (se você está no mesmo notebook e já importou os dodos, não é necessário importar novamente). \n",
    "\n",
    "Observe os nomes das colunas (variáveis)."
   ]
  },
  {
   "cell_type": "code",
   "execution_count": null,
   "id": "9f5d6a6a",
   "metadata": {},
   "outputs": [],
   "source": [
    "dexp"
   ]
  },
  {
   "cell_type": "markdown",
   "id": "c51662f2",
   "metadata": {},
   "source": [
    "Alternativamente, confira os nomes das colunas com o atributo colunms:"
   ]
  },
  {
   "cell_type": "code",
   "execution_count": null,
   "id": "2f796167",
   "metadata": {},
   "outputs": [],
   "source": [
    "dexp.columns"
   ]
  },
  {
   "cell_type": "markdown",
   "id": "79c58049",
   "metadata": {},
   "source": [
    "<div class=\"alert alert-info\"> \n",
    "    \n",
    "**Observação:**\n",
    "\n",
    "[AQUI](http://nedurcode.com/python/Pandas_Basics_Cheat_Sheet_datacamp.pdf), você encontra um guia rápido do **pandas**, escrito pelo pessoal do *Data Camp*. \n",
    "    \n",
    "</div>\n",
    "\n",
    "Vejamos algumas manipulações muito utilizadas em bancos de dados: \n",
    "    \n",
    "### 7.4.1. Selecionar variáveis\n",
    "\n",
    "Para selecionar apenas algumas variáveis, podemos criar um novo objeto **dexp_mod** especificado a partir da seleção de algumas variáveis da base original, como Ano (\"CO_ANO\"), Mês (\"CO_MES\"), UF (\"SG_UF_NCM\") e Valor FOB (\"VL_FOB\"):"
   ]
  },
  {
   "cell_type": "code",
   "execution_count": null,
   "id": "8c324cfa",
   "metadata": {},
   "outputs": [],
   "source": [
    "dexp_mod = dexp[[\"CO_ANO\", \"CO_MES\", \"SG_UF_NCM\", \"VL_FOB\"]]"
   ]
  },
  {
   "cell_type": "markdown",
   "id": "421bff85",
   "metadata": {},
   "source": [
    "Para verificar a nova base, podemos utilizar o método `head()`"
   ]
  },
  {
   "cell_type": "code",
   "execution_count": null,
   "id": "21cc8ae7",
   "metadata": {},
   "outputs": [],
   "source": [
    "dexp_mod.head()"
   ]
  },
  {
   "cell_type": "markdown",
   "id": "15b1af9c",
   "metadata": {},
   "source": [
    "### 7.4.2. Renomear variáveis\n",
    "\n",
    "Para renomear as variáveis, podemos usar o método `rename()`.\n",
    "\n",
    "Por exemplo, para renomear \"CO_ANO\" como \"ano\", \"CO_MES\" como \"mes\", \"SG_UF_NCM\" como \"uf\" e \"VL_FOB\" como \"exp\" na base de dados **dexp_mod**, o seguinte código pode ser usado:"
   ]
  },
  {
   "cell_type": "code",
   "execution_count": null,
   "id": "06a81737",
   "metadata": {},
   "outputs": [],
   "source": [
    "dexp_mod = dexp_mod.rename(\n",
    "    columns={\n",
    "        \"CO_ANO\":\"ano\",\n",
    "        \"CO_MES\":\"mes\",\n",
    "        \"SG_UF_NCM\":\"uf\",\n",
    "        \"VL_FOB\":\"exp\"\n",
    "    }\n",
    ")"
   ]
  },
  {
   "cell_type": "markdown",
   "id": "dbc42037",
   "metadata": {},
   "source": [
    "Observe que a nova base de dados tem o mesmo nome que a anterior. Se você abrir o objeto **dexp_mod**, as variáveis estarão com os novos nomes.\n",
    "\n",
    "<div class=\"alert alert-warning\"> \n",
    "\n",
    "O que está dentro dos colchetes é um **dicionário**, o que também é uma estrutura de dados em Python. Basicamente, um dicionário é uma correspondência. Para mais informações acesse: https://docs.python.org/3/tutorial/datastructures.html#dictionaries\n",
    "\n",
    "</div > \n",
    "\n",
    "### 7.4.3. Modificar dados\n",
    "\n",
    "Para criar o log de uma variável, precisamos utilizar o pacote **numpy** que será importado com a abreviação **np**: "
   ]
  },
  {
   "cell_type": "code",
   "execution_count": null,
   "id": "949fd4e4",
   "metadata": {},
   "outputs": [],
   "source": [
    "import numpy as np"
   ]
  },
  {
   "cell_type": "markdown",
   "id": "ee8d5098",
   "metadata": {},
   "source": [
    "Vamos utilizar a função `np.log()` do numpy, diretamente sobre a coluna selecionada. Por exemplo, para obtermos o log do valor das exportações e salvá-la com o nome **log_exp**, podemos utilizar o seguinte código: "
   ]
  },
  {
   "cell_type": "code",
   "execution_count": null,
   "id": "83f6f3bb",
   "metadata": {},
   "outputs": [],
   "source": [
    "dexp_mod[\"log_exp\"] = np.log(dexp_mod[\"exp\"])"
   ]
  },
  {
   "cell_type": "markdown",
   "id": "4c14c5a0",
   "metadata": {},
   "source": [
    "Observe que a mensagem de **warning** indica que existem logs de zero, o que resulta em um número indefinido (o que não será um problema nesse caso!). Você pode organizar o banco de dados por exportações, utilizando o método `sort_values()`, e verificar que quando as exportações são zero, o resultado é *-inf*:"
   ]
  },
  {
   "cell_type": "code",
   "execution_count": null,
   "id": "ce1e0b7e",
   "metadata": {},
   "outputs": [],
   "source": [
    "dexp_mod.sort_values(\"exp\")"
   ]
  },
  {
   "cell_type": "markdown",
   "id": "c22a5b47",
   "metadata": {},
   "source": [
    "Podemos também transformar o valor US$ FOB das exportações em bilhões com a divisão:"
   ]
  },
  {
   "cell_type": "code",
   "execution_count": null,
   "id": "a1b7dbe1",
   "metadata": {},
   "outputs": [],
   "source": [
    "dexp_mod[\"exp\"] = (dexp_mod[\"exp\"]/1000000000)"
   ]
  },
  {
   "cell_type": "markdown",
   "id": "bcc13095",
   "metadata": {},
   "source": [
    "Observe que nesse caso, estamos substituindo a variável **exp** pelo valor em bilhões:"
   ]
  },
  {
   "cell_type": "code",
   "execution_count": null,
   "id": "89b52f2a",
   "metadata": {},
   "outputs": [],
   "source": [
    "dexp_mod.head()"
   ]
  },
  {
   "cell_type": "markdown",
   "id": "f069b543",
   "metadata": {},
   "source": [
    "### 7.4.4. Agrupar e agregar dados\n",
    "\n",
    "Para agrupar a base de dados, podemos utilizar o método `groupby()` do **pandas**, combinado com outras funções. Por exemplo, podemos obter a soma da variável de exportações, agrupada por *ano* e *UF*: "
   ]
  },
  {
   "cell_type": "code",
   "execution_count": null,
   "id": "ef2936ef",
   "metadata": {},
   "outputs": [],
   "source": [
    "dexp_mod.groupby([\"ano\",\"uf\"],  as_index=False)[\"exp\"].sum()"
   ]
  },
  {
   "cell_type": "markdown",
   "id": "c28f2221",
   "metadata": {},
   "source": [
    "<div class=\"alert alert-info\"> \n",
    "    \n",
    "**Observação:**\n",
    "\n",
    "Repare que utilizamos o argumento *as_index=False* ao usar o método *groupby*. Isso porque, quando não utilizamos esse argumento, *[\"ano\",\"uf\"]* serão considerados índices da nova série criada. Ao deixar *as_index=False*, estamos mantendo o índice como uma sequência numérica. \n",
    "    \n",
    "</div > \n",
    "\n",
    "Podemos ainda utilizar várias estatísticas ao mesmo tempo (por exemplo, soma, mínimo e máximo), utilizando o método **agg()**: "
   ]
  },
  {
   "cell_type": "code",
   "execution_count": null,
   "id": "fb826b8e",
   "metadata": {},
   "outputs": [],
   "source": [
    "dexp_mod.groupby([\"ano\",\"uf\"],  as_index=False)[\"exp\"].agg([sum, min, max])"
   ]
  },
  {
   "cell_type": "markdown",
   "id": "0ef4899e",
   "metadata": {},
   "source": [
    "## 7.5. Exportação de dados\n",
    "\n",
    "Podemos utilizar o **pandas** para exportar dados para diversos formatos como **CSV** e **XLSX**. \n",
    "\n",
    "Vamos retomar a base de dados modificada anteriormente, e salvar os dados somados de exportação por UF com o nome *tabela*:"
   ]
  },
  {
   "cell_type": "code",
   "execution_count": null,
   "id": "ab13ebe6",
   "metadata": {},
   "outputs": [],
   "source": [
    "tabela = dexp_mod.groupby([\"ano\",\"uf\"],  as_index=False).sum()"
   ]
  },
  {
   "cell_type": "markdown",
   "id": "1739cf07",
   "metadata": {},
   "source": [
    "Esses dados serão salvos em CSV e XLS. \n",
    "\n",
    "### 7.5.1. **Dados em CSV**\n",
    "\n",
    "Suponha que você queira exportar a tabela com dados agregados das exportações por UF e ano. \n",
    "\n",
    "Nesse caso, podemos usar, por exemplo, a função `to_csv()` do pacote **pandas**:"
   ]
  },
  {
   "cell_type": "code",
   "execution_count": null,
   "id": "0ece8632",
   "metadata": {},
   "outputs": [],
   "source": [
    "tabela.to_csv('Exp_UF_2019v.csv')"
   ]
  },
  {
   "cell_type": "markdown",
   "id": "1f6c0e7a",
   "metadata": {},
   "source": [
    "Observe que a base de dados foi salva no seu diretório de trabalho. Se você abrir o arquivo CSV, irá observar que os dados estão separados por vírgula. A função `to_csv()` utiliza vírgula (,) como separador padrão.\n",
    "\n",
    "Para mudar o separador para ponto e vírgula (;), precisamos indicar no argumento *sep* da função:"
   ]
  },
  {
   "cell_type": "code",
   "execution_count": null,
   "id": "5cf78c2c",
   "metadata": {},
   "outputs": [],
   "source": [
    "tabela.to_csv('Exp_UF_2019pv.csv', sep=';')"
   ]
  },
  {
   "cell_type": "markdown",
   "id": "9b43d266",
   "metadata": {},
   "source": [
    "De forma alternativa, se quisermos salvar a tabela apenas externamente, podemos encadear os dois códigos, usando: "
   ]
  },
  {
   "cell_type": "code",
   "execution_count": null,
   "id": "ab22fd9d",
   "metadata": {},
   "outputs": [],
   "source": [
    "dexp_mod.groupby([\"ano\",\"uf\"], as_index=False).sum().to_csv('Exp_UF_2019pv.csv', sep=';')"
   ]
  },
  {
   "cell_type": "markdown",
   "id": "ac143b68",
   "metadata": {},
   "source": [
    "Lembre-se, você pode tirar suas dúvidas sobre as funções com a função help:\n",
    "\n",
    "    help(pd.DataFrame.to_csv)"
   ]
  },
  {
   "cell_type": "markdown",
   "id": "0ae4a01d",
   "metadata": {},
   "source": [
    "### 7.5.2. **Dados em XLSX**"
   ]
  },
  {
   "cell_type": "markdown",
   "id": "dc3292b9",
   "metadata": {},
   "source": [
    "Para exportar para excel, podemos usar a função `to_excel()` do pacote **pandas**:"
   ]
  },
  {
   "cell_type": "code",
   "execution_count": null,
   "id": "fdf2bd46",
   "metadata": {},
   "outputs": [],
   "source": [
    "tabela.to_excel('Exp_UF_2019.xlsx',  sheet_name = \"2019\")"
   ]
  },
  {
   "cell_type": "markdown",
   "id": "f76bd08c",
   "metadata": {},
   "source": [
    "Observe que o argumento *sheet_name*, escreve 2019 no nome da aba do excel. Esse é um argumento opcional do método, que será muito útil principalmente quando você precisar salvar várias abas no mesmo arquivo. \n",
    "\n",
    "<div class=\"alert alert-warning\"> \n",
    "    \n",
    "**Atenção:**\n",
    "    \n",
    "O pacote **pandas** possui diversas outras opções para ler e escrever dados, que podem ser conferidas em: https://pandas.pydata.org/docs/reference/io.html. \n",
    "    \n",
    "</div > "
   ]
  }
 ],
 "metadata": {
  "kernelspec": {
   "display_name": "Python 3 (ipykernel)",
   "language": "python",
   "name": "python3"
  },
  "language_info": {
   "codemirror_mode": {
    "name": "ipython",
    "version": 3
   },
   "file_extension": ".py",
   "mimetype": "text/x-python",
   "name": "python",
   "nbconvert_exporter": "python",
   "pygments_lexer": "ipython3",
   "version": "3.9.12"
  }
 },
 "nbformat": 4,
 "nbformat_minor": 5
}
