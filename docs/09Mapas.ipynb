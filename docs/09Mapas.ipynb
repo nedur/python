{
 "cells": [
  {
   "cell_type": "markdown",
   "id": "ce6ec395",
   "metadata": {},
   "source": [
    "# 9. Mapas\n"
   ]
  },
  {
   "cell_type": "markdown",
   "id": "3f466a24",
   "metadata": {},
   "source": [
    "O principal pacote para criar mapas em *Python* é o **geopandas**. \n",
    "\n",
    "Se essa é a primeira vez que você usa o pacote, será necessário instalá-lo. \n",
    "\n",
    "Para instalar a primeira vez, você pode utilizar o seguinte comando: \n",
    "\n",
    "    !pip install geopandas\n",
    "\n",
    "Com o **geopandas** instalado, vamos primeiro importar o pacote e em seguida abrir os dados: "
   ]
  },
  {
   "cell_type": "code",
   "execution_count": null,
   "id": "77123029",
   "metadata": {},
   "outputs": [],
   "source": [
    "import geopandas "
   ]
  },
  {
   "cell_type": "markdown",
   "id": "c5097e61",
   "metadata": {},
   "source": [
    "Os arquivos de mapas são organizados no formato *shape*. Para o Brasil, o Instituto Brasileiro de Geografia e Estatística (IBGE), disponibiliza diversos arquivos desse tipo (https://www.ibge.gov.br/geociencias/organizacao-do-territorio/malhas-territoriais/15774-malhas.html?=&t=acesso-ao-produto). \n",
    "\n",
    "Vamos usar o arquivo para o Brasil, por Unidades da Federação. Você pode encontrar esses dados [AQUI](http://nedurcode.com/python/BR_UF_2021.zip). Baixe a pasta, descompacte os arquivos e salve todos os arquivos no seu diretório de trabalho, dentro de uma mesma pasta com o nome **BR_UF_2021**. \n",
    "\n",
    "Com os arquivos salvos no seu diretório de trabalho, agora sim, podemos fazer a leitura dos dados: "
   ]
  },
  {
   "cell_type": "code",
   "execution_count": null,
   "id": "39728db1",
   "metadata": {},
   "outputs": [],
   "source": [
    "UF = geopandas.read_file(\"BR_UF_2021\")\n",
    "\n",
    "UF.head()"
   ]
  },
  {
   "cell_type": "markdown",
   "id": "28d72067",
   "metadata": {},
   "source": [
    "Agora que o *shape file* já foi lido, vamos primeiro juntar as informações sobre exportações, da seção anterior, com as informações desse arquivo. \n",
    "\n",
    "Novamente, precisamos importar o pacote **pandas** e os dados da seção anterior: "
   ]
  },
  {
   "cell_type": "code",
   "execution_count": null,
   "id": "4223eeda",
   "metadata": {},
   "outputs": [],
   "source": [
    "import pandas as pd\n",
    "\n",
    "dados = pd.read_excel(\"EXP2019_ComexStat.xlsx\")"
   ]
  },
  {
   "cell_type": "markdown",
   "id": "f48dec76",
   "metadata": {},
   "source": [
    "Observe que a informação em comum nas duas bases de dados é a sigla de UF: "
   ]
  },
  {
   "cell_type": "code",
   "execution_count": null,
   "id": "50df1db9",
   "metadata": {},
   "outputs": [],
   "source": [
    "dados.head()"
   ]
  },
  {
   "cell_type": "markdown",
   "id": "180ac55b",
   "metadata": {},
   "source": [
    "Para unir as duas bases de dados, vamos usar o método .`merge()`, conforme o código abaixo: "
   ]
  },
  {
   "cell_type": "code",
   "execution_count": null,
   "id": "51ed58e7",
   "metadata": {},
   "outputs": [],
   "source": [
    "UF = UF.merge(dados, left_on='SIGLA', right_on='uf')"
   ]
  },
  {
   "cell_type": "markdown",
   "id": "0c692306",
   "metadata": {},
   "source": [
    "Observe que estamos atualizando a base do mapa, chamada **UF**, acrescentando os dados da base importada com o nome **dados**, sendo que os dados serão adicionados considerando a coluna *SIGLA* da base de dados da esquerda (i.e., **UF**), com a coluna *uf* da base de dados da direita (i.e., **dados**). \n",
    "\n",
    "Para visualizar os dados após a integração das bases, basta reabriar o início da base original: "
   ]
  },
  {
   "cell_type": "code",
   "execution_count": null,
   "id": "9a75e607",
   "metadata": {},
   "outputs": [],
   "source": [
    "UF.head()"
   ]
  },
  {
   "cell_type": "markdown",
   "id": "d48b5bc0",
   "metadata": {},
   "source": [
    "O jeito mais simples de visualizar os dados é utilizando o método `.plot()` do *geopandas*: "
   ]
  },
  {
   "cell_type": "code",
   "execution_count": null,
   "id": "8a3356db",
   "metadata": {},
   "outputs": [],
   "source": [
    "UF.plot(\"exp\", legend=True)"
   ]
  },
  {
   "cell_type": "markdown",
   "id": "768dcd7d",
   "metadata": {},
   "source": [
    "Além da opção de legenda, utilizada no exemplo anterior, o método `plot()`possui diversos outros argumentos. \n",
    "\n",
    "Como no exemplo abaixo, você pode definir que os valores (no nosso caso, os valores de exportações) serão divididos em quantis (*scheme='quantiles'*), que o número de grupos será quatro (*k=4*), que as cores do mapa serão tons de verde (*cmap='Greens'*), que a cor da borda das divisões (nesse caso, entre UFs) será cinza (*edgecolor='grey'*), e que a figura terá um tamanho de 15 por 10 cm (*figsize=(15, 10)*). \n",
    "\n",
    "Outros argumentos podem ser consultados na documentação do [*geopandas*](https://geopandas.org/en/stable/docs/reference/api/geopandas.GeoDataFrame.plot.html). "
   ]
  },
  {
   "cell_type": "code",
   "execution_count": null,
   "id": "69507450",
   "metadata": {},
   "outputs": [],
   "source": [
    "UF.plot(\n",
    "    \"exp\", \n",
    "    legend=True,  \n",
    "    scheme='quantiles',\n",
    "    k=4,\n",
    "    cmap='Greens',\n",
    "    edgecolor='grey',    \n",
    "    figsize=(15, 10)\n",
    ")"
   ]
  },
  {
   "cell_type": "markdown",
   "id": "83bb9a51",
   "metadata": {},
   "source": [
    "Assim como o **pandas**, o **geopandas** está usando o **matplotlib** no background. Mais opções de cores podem ser consultadas em: https://matplotlib.org/2.0.2/users/colormaps.html\n",
    "\n",
    "Para salvar o mapa como png, precisamos colocá-lo como um *subplot* do *matplotlib* como mostra o exemplo a seguir: "
   ]
  },
  {
   "cell_type": "code",
   "execution_count": null,
   "id": "9e30c541",
   "metadata": {},
   "outputs": [],
   "source": [
    "import matplotlib.pyplot as plt \n",
    "\n",
    "fig, ax = plt.subplots(figsize=(15,10))\n",
    "UF.plot(\n",
    "    \"exp\", \n",
    "    legend=True,\n",
    "    cmap='Greens',\n",
    "    scheme='quantiles',\n",
    "    figsize=(15,10),\n",
    "    edgecolor='grey',\n",
    "    ax=ax\n",
    ")\n",
    "fig.savefig(\"Exportações2019.png\")"
   ]
  },
  {
   "cell_type": "markdown",
   "id": "fd476665",
   "metadata": {},
   "source": [
    "Uma outra forma de visualizar os dados é por meio do método `explore()`, que cria gráficos interativos, como nesse exemplo:"
   ]
  },
  {
   "cell_type": "code",
   "execution_count": null,
   "id": "f82d44e4",
   "metadata": {},
   "outputs": [],
   "source": [
    "UF.explore(\n",
    "    \"exp\", \n",
    "    legend=True,\n",
    "    cmap='summer'\n",
    ")"
   ]
  },
  {
   "cell_type": "markdown",
   "id": "b249f878",
   "metadata": {},
   "source": [
    "**Muito obrigado pela participação e até a próxima!**\n",
    "\n",
    "Kênia de Souza, Tânia Alberti e Vinícius Vale. "
   ]
  }
 ],
 "metadata": {
  "kernelspec": {
   "display_name": "Python 3 (ipykernel)",
   "language": "python",
   "name": "python3"
  },
  "language_info": {
   "codemirror_mode": {
    "name": "ipython",
    "version": 3
   },
   "file_extension": ".py",
   "mimetype": "text/x-python",
   "name": "python",
   "nbconvert_exporter": "python",
   "pygments_lexer": "ipython3",
   "version": "3.9.12"
  }
 },
 "nbformat": 4,
 "nbformat_minor": 5
}
