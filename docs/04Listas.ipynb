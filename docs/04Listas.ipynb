{
 "cells": [
  {
   "cell_type": "markdown",
   "id": "e5e8586b",
   "metadata": {},
   "source": [
    "# 4. Listas\n",
    "\n",
    "As variáveis criadas no último item referem-se a uma informação única, um número, uma palavra, ou frase. Para dar um nome para uma coleção de valores, ou elementos, podemos criar listas. \n",
    "\n",
    "As listas são um outro tipo de dado, que podem conter diferentes tipos de informação (*str, bool, int, float*) ou mesmos outras listas. \n",
    "\n",
    "Podemos criar, por exemplo, uma lista com os estados do sul do Brasil, e seus respectivos valores do PIB para 2019 em milhões de reais (calculado pelo [IBGE](https://www.ibge.gov.br/estatisticas/economicas/contas-nacionais/9054-contas-regionais-do-brasil.html?=&t=resultados)).\n",
    "\n",
    "Vamos chamar essa lista de **sul**:"
   ]
  },
  {
   "cell_type": "code",
   "execution_count": null,
   "id": "2a5014a7",
   "metadata": {},
   "outputs": [],
   "source": [
    "sul = [\"Paraná\", 466377.04, \"Santa Catarina\", 323263.86, \"Rio Grande do Sul\", 482464.18]"
   ]
  },
  {
   "cell_type": "markdown",
   "id": "a62624d8",
   "metadata": {},
   "source": [
    "Se verificarmos o tipo de informação (com a função `type()`), veremos que o tipo é *list*. \n",
    "\n",
    "**Complete a linha de código abaixo para testar essa informação.**"
   ]
  },
  {
   "cell_type": "code",
   "execution_count": null,
   "id": "efba73f1",
   "metadata": {},
   "outputs": [],
   "source": [
    "type()"
   ]
  },
  {
   "cell_type": "markdown",
   "id": "0ca60a53",
   "metadata": {},
   "source": [
    "Para selecionar informações da lista, precisamos entender como a linguagem armazena os elementos. \n",
    "\n",
    "O primeiro elemento corresponde sempre ao índice zero. Sendo assim, para podermos selecionar, por exemplo, o PIB do Paraná, o segundo elemento da lista, devemos selecionar o elemento de índice 1:"
   ]
  },
  {
   "cell_type": "code",
   "execution_count": null,
   "id": "35a1415c",
   "metadata": {},
   "outputs": [],
   "source": [
    "sul[1]"
   ]
  },
  {
   "cell_type": "markdown",
   "id": "352f6fdc",
   "metadata": {},
   "source": [
    "Para selecionar as informações para o estado de Santa Catarina (índices 2 e 3), podemos usar o seguinte código:"
   ]
  },
  {
   "cell_type": "code",
   "execution_count": null,
   "id": "8eb3f400",
   "metadata": {},
   "outputs": [],
   "source": [
    "sul[0:2]"
   ]
  },
  {
   "cell_type": "markdown",
   "id": "e4946f71",
   "metadata": {},
   "source": [
    "Observe que estamos selecionando uma sequência de elementos que vai de 0 até 2, porém sem incluir o elemento de índice 2 (terceiro elemento da lista). \n",
    "\n",
    "O mesmo resultado pode ser obtido com o seguinte código: "
   ]
  },
  {
   "cell_type": "code",
   "execution_count": null,
   "id": "7d4baf88",
   "metadata": {},
   "outputs": [],
   "source": [
    "sul[ :2]"
   ]
  },
  {
   "cell_type": "markdown",
   "id": "81fd45dd",
   "metadata": {},
   "source": [
    "Ou seja, ao deixar o primeiro elemento em branco, estamos informando que queremos selecionar todos os elementos até o índice 2, sem incluir o próprio índice 2. \n",
    "\n",
    "É possível também identificar os elementos por ordem inversa, utilizando números negativos. Por exemplo, para selecionar os dois últimos elementos da lista, podemos utilizar: "
   ]
  },
  {
   "cell_type": "code",
   "execution_count": null,
   "id": "b2a5af9d",
   "metadata": {},
   "outputs": [],
   "source": [
    "sul[-2:]"
   ]
  },
  {
   "cell_type": "markdown",
   "id": "4dc50eff",
   "metadata": {},
   "source": [
    "Nesse caso, estamos selecionado os elementos de índices -2 e -1, ou seja, -2 (incluído) até o final da lista (elemento -1). \n",
    "\n",
    "Outra forma de colocar esses dados seria **criar sublistas dentro da lista**, para deixar mais claro que a primeira informação é um nome seguida de um número que se refere a esse nome. Vamos salvar a nova lista como *sul2* para que os dados da primeira lista sejam mantidos (se você colocar novamente o nome *sul* estará sobrescrevendo as informações anteriores). "
   ]
  },
  {
   "cell_type": "code",
   "execution_count": null,
   "id": "c26b5d15",
   "metadata": {},
   "outputs": [],
   "source": [
    "sul2 = [[\"Paraná\", 466377.04],[\"Santa Catarina\", 323263.86],[\"Rio Grande do Sul\", 482464.18]]"
   ]
  },
  {
   "cell_type": "markdown",
   "id": "7548bf27",
   "metadata": {},
   "source": [
    "Nesse caso, ao selecionarmos o primeiro elemento da lista, estamos acionando a primeira lista das listas: "
   ]
  },
  {
   "cell_type": "code",
   "execution_count": null,
   "id": "a3edec52",
   "metadata": {},
   "outputs": [],
   "source": [
    "sul2[0]"
   ]
  },
  {
   "cell_type": "markdown",
   "id": "a621aa2d",
   "metadata": {},
   "source": [
    "Para selecionar apenas o segundo elemento (índice 1) da primeira lista (índice 0), podemos usar: "
   ]
  },
  {
   "cell_type": "code",
   "execution_count": null,
   "id": "70f1d2ac",
   "metadata": {},
   "outputs": [],
   "source": [
    "sul2[0][1]"
   ]
  },
  {
   "cell_type": "markdown",
   "id": "ac0d805a",
   "metadata": {},
   "source": [
    "Observe que o primeiro elemento se refere a lista *sul2*, ou seja, estamos selecionando o elemento *[1]* de *sul2[0]*. \n",
    "\n",
    "Podemos também alterar elementos da lista. Por exemplo, podemos mudar o nome \"Rio Grande do Sul\" na lista **sul** para RS com o seguinte comando: "
   ]
  },
  {
   "cell_type": "code",
   "execution_count": null,
   "id": "e02c8eab",
   "metadata": {},
   "outputs": [],
   "source": [
    "sul[-2] = \"RS\"\n",
    "print(sul)"
   ]
  },
  {
   "cell_type": "markdown",
   "id": "5bb9c533",
   "metadata": {},
   "source": [
    "Ou voltar o nome, utilizando: "
   ]
  },
  {
   "cell_type": "code",
   "execution_count": null,
   "id": "fa657205",
   "metadata": {},
   "outputs": [],
   "source": [
    "sul[4] = \"Rio Grande do Sul\"\n",
    "print(sul)"
   ]
  },
  {
   "cell_type": "markdown",
   "id": "7ee1c1e2",
   "metadata": {},
   "source": [
    "Observe que as duas substituições são equivalentes. \"Rio Grande do Sul\" é o penúltimo elemento da lista (-2) e possui o quarto índice (quinto elemento). \n",
    "\n",
    "Para deletar elementos, podemos usar a função `del()`. Por exemplo, podemos remover as informações do Paraná: "
   ]
  },
  {
   "cell_type": "code",
   "execution_count": null,
   "id": "4bee3c4a",
   "metadata": {},
   "outputs": [],
   "source": [
    "del(sul[:2])\n",
    "sul"
   ]
  },
  {
   "cell_type": "markdown",
   "id": "940316fd",
   "metadata": {},
   "source": [
    "Para adicionarmos novamente os mesmos elementos, podemos simplesmente usar o operador **+**: "
   ]
  },
  {
   "cell_type": "code",
   "execution_count": null,
   "id": "586e6e3e",
   "metadata": {},
   "outputs": [],
   "source": [
    "sul = ['Paraná', 466377.04] + sul\n",
    "sul"
   ]
  },
  {
   "cell_type": "markdown",
   "id": "40de5353",
   "metadata": {},
   "source": [
    "As listas serão muito utilizadas dentro de outras funções. É importante ter certeza que os conceitos ficaram claros para prosseguir! "
   ]
  }
 ],
 "metadata": {
  "kernelspec": {
   "display_name": "Python 3 (ipykernel)",
   "language": "python",
   "name": "python3"
  },
  "language_info": {
   "codemirror_mode": {
    "name": "ipython",
    "version": 3
   },
   "file_extension": ".py",
   "mimetype": "text/x-python",
   "name": "python",
   "nbconvert_exporter": "python",
   "pygments_lexer": "ipython3",
   "version": "3.9.12"
  }
 },
 "nbformat": 4,
 "nbformat_minor": 5
}
