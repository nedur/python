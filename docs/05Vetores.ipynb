{
 "cells": [
  {
   "cell_type": "markdown",
   "id": "e910c90e",
   "metadata": {},
   "source": [
    "# 5. Vetores \n",
    "\n",
    "## 5.1. Criação de vetores\n",
    "\n",
    "Em economia fazemos uso recorrente de matrizes e vetores. Em Python, precisamos de um pacote para isso. \n",
    "\n",
    "<div class=\"alert alert-warning\">  \n",
    "    \n",
    "**Pacotes** são conjuntos ou bibliotecas de código utilizados para um fim específico. \n",
    "\n",
    "</div>\n",
    "\n",
    "Para vetores, matrizes e suas operações, vamos utilizar o pacote **Numpy** *(Numerical Python)*. \n",
    "\n",
    "Na **Plataforma Anaconda** esse pacote já está previamente instalado (o mesmo vale para o **Google Colab**). Porém, se você estiver utilizando outra inferface, poderá instalar o **Numpy**, na janela de comando, utilizando: \n",
    "\n",
    "    pip install numpy\n",
    "    \n",
    "Ou ainda, utilizar diretamente no notebook utilizando:\n",
    "\n",
    "    !pip install numpy\n",
    "\n",
    "Mesmo com o pacote instalado, você irá precisar sempre importá-lo antes de usar. \n",
    "\n",
    "Na importação, é comum utilizar uma abreviação do nome do pacote, o que irá facilitar seu uso no restante do código. \n",
    "\n",
    "No caso do **Numpy**, vamos usar **np**, que é uma abreviação utilizada recorrentemente, por convenção (você pode escolher qualquer letra). Como é uma convenção muito utilizada, manter **np** permite que outras pessoas entendam melhor o seu código e facilita o uso de códigos prontos. \n",
    "\n",
    "Para importar o **Numpy** como **np** utilize: "
   ]
  },
  {
   "cell_type": "code",
   "execution_count": null,
   "id": "b79b9cb5",
   "metadata": {},
   "outputs": [],
   "source": [
    "import numpy as np"
   ]
  },
  {
   "cell_type": "markdown",
   "id": "14b73995",
   "metadata": {},
   "source": [
    "Agora sim, você pode começar a criar vetores! \n",
    "\n",
    "Vamos criar o vetor **x** com os elementos [1, 5, 6] com auxílio da função **array**. Observe que **array** é uma função do pacote **Numpy**, sendo assim, sempre utilizaremos **np.array** para chamar essa função: "
   ]
  },
  {
   "cell_type": "code",
   "execution_count": null,
   "id": "39d0b60f",
   "metadata": {},
   "outputs": [],
   "source": [
    "x = np.array([1, 5, 6])"
   ]
  },
  {
   "cell_type": "markdown",
   "id": "07dd618e",
   "metadata": {},
   "source": [
    "O vetor fica disponível apenas com o nome **x**:"
   ]
  },
  {
   "cell_type": "code",
   "execution_count": null,
   "id": "2d59d206",
   "metadata": {},
   "outputs": [],
   "source": [
    "x"
   ]
  },
  {
   "cell_type": "markdown",
   "id": "9b491815",
   "metadata": {},
   "source": [
    "Ou, você pode utilizar a função `print()` para visualizar o conteúdo da variável: "
   ]
  },
  {
   "cell_type": "code",
   "execution_count": null,
   "id": "ee95a04e",
   "metadata": {},
   "outputs": [],
   "source": [
    "print(x)"
   ]
  },
  {
   "cell_type": "markdown",
   "id": "5d526ba7",
   "metadata": {},
   "source": [
    "Vale observar que os vetores não precisam ser numéricos! \n",
    "\n",
    "Por exemplo, podemos criar o vetor **y** apenas com texto: "
   ]
  },
  {
   "cell_type": "code",
   "execution_count": null,
   "id": "4ba74f11",
   "metadata": {},
   "outputs": [],
   "source": [
    "y = np.array([\"NEDUR\", \"UFPR\", \"Regional\", \"Urbana\"])\n",
    "print(y)"
   ]
  },
  {
   "cell_type": "markdown",
   "id": "cbefea7b",
   "metadata": {},
   "source": [
    "Observe que ao utilizar a função `type()` para verificar o tipo de variável, você terá como resposta *numpy.ndarray* (abreviação para *numpy N-dimensional array*) para ambos os vetores. Faça o teste, **completando as células abaixo**: "
   ]
  },
  {
   "cell_type": "code",
   "execution_count": null,
   "id": "aac71199",
   "metadata": {},
   "outputs": [],
   "source": [
    "print() # Para o vetor x\n",
    "print() # Para o vetor y"
   ]
  },
  {
   "cell_type": "markdown",
   "id": "8bbf30bd",
   "metadata": {},
   "source": [
    "Para sabermos o tipo dentro de um objeto do **Numpy**, podemos utilizar o *atributo* **dtype** do vetor. \n",
    "\n",
    "<div class=\"alert alert-warning\"> \n",
    "    \n",
    "**Atributos** são informações ou características relacionadas à determinada função, *dtype* (abreviatura de *data type*) é um atributo de um **array**.        \n",
    "    \n",
    "</div>    "
   ]
  },
  {
   "cell_type": "code",
   "execution_count": null,
   "id": "efa6b0e7",
   "metadata": {
    "scrolled": true
   },
   "outputs": [],
   "source": [
    "print(x.dtype)\n",
    "print(y.dtype)"
   ]
  },
  {
   "cell_type": "markdown",
   "id": "0b5621af",
   "metadata": {},
   "source": [
    "A saída nos indica que temos um vetor com inteiros (int) e 32 caracteres para a variável *x*, enquanto *y* é vetor de texto *Unicode String* (U), com 8 caracteres. Esses tamanhos podem ser diferentes se você estiver utilizando outro ambiente, ou outra versão dos pacotes.  \n",
    "\n",
    "<div class=\"alert alert-info\"> \n",
    "    \n",
    "**Observação:**\n",
    "    \n",
    "O formato **Unicode**(*Universal Character Encoding*) é um padrão de representação para texto universal. \n",
    "\n",
    "</div>  \n",
    "\n",
    "Não vamos detalhar todas as combinações possíveis aqui, elas estão disponíveis na documentação do [Numpy](https://numpy.org/doc/stable/reference/arrays.dtypes.html)\n",
    "\n",
    "Vetores lógicos (booleanos) também podem ser criados no **Numpy**:"
   ]
  },
  {
   "cell_type": "code",
   "execution_count": null,
   "id": "54b59f48",
   "metadata": {},
   "outputs": [],
   "source": [
    "v = np.array([True, False, True])"
   ]
  },
  {
   "cell_type": "markdown",
   "id": "af92a746",
   "metadata": {},
   "source": [
    "**Insira uma nova célula de código abaixo e, para o vetor v, verfique o tipo de dado utilizando o atributo `.dtype`.**"
   ]
  },
  {
   "cell_type": "markdown",
   "id": "20b59b4b",
   "metadata": {},
   "source": [
    "Diferente das listas, que podem conter qualquer tipo de dado ao mesmo tempo, um vetor pode ter apenas um tipo de dado. \n",
    "\n",
    "Se tentarmos colocar números e letras no mesmo vetor, todos os elementos serão convertidos para letras: "
   ]
  },
  {
   "cell_type": "code",
   "execution_count": null,
   "id": "5e7872ca",
   "metadata": {},
   "outputs": [],
   "source": [
    "z = np.array([\"NEDUR\", \"UFPR\", \"Regional\", \"Urbana\", 1])"
   ]
  },
  {
   "cell_type": "markdown",
   "id": "c40bf144",
   "metadata": {},
   "source": [
    "**Insira uma nova célula de código abaixo e, primeiro vizualize o vetor z utilizando a função `print()`, em seguida, verfique o tipo de dado utilizando o atributo `.dtype`.**"
   ]
  },
  {
   "cell_type": "markdown",
   "id": "598444d7",
   "metadata": {},
   "source": [
    "Podemos criar uma vetor com uma sequência de números. \n",
    "\n",
    "Um vetor de 0 a 4, por exemplo, pode ser criado com auxílio da função *numpy arange*:"
   ]
  },
  {
   "cell_type": "code",
   "execution_count": null,
   "id": "d09160ec",
   "metadata": {},
   "outputs": [],
   "source": [
    "r = np.arange(5)\n",
    "print(r)"
   ]
  },
  {
   "cell_type": "markdown",
   "id": "4a308c08",
   "metadata": {},
   "source": [
    "Observe que ao informar que queremos um *array* com uma sequência até 5, o vetor começa em zero e possui cinco elementos.\n",
    "\n",
    "No exemplo anterior usamos `np.arrange(5)`, em que o número `5` é chamado de **argumento da função**, e se refere ao valor final da sequência de números criada. A função *np.arange* possui vários argumentos, ou seja, vários outros parâmetros que podem ser alterados para formar sequências diferentes, como valor inicial, intervalos, entre outros. \n",
    "\n",
    "Para conhecer os argumentos da função, use a função `help()`:"
   ]
  },
  {
   "cell_type": "code",
   "execution_count": null,
   "id": "e2462d78",
   "metadata": {},
   "outputs": [],
   "source": [
    "help(np.arange)"
   ]
  },
  {
   "cell_type": "code",
   "execution_count": null,
   "id": "f3d7c35a",
   "metadata": {},
   "outputs": [],
   "source": [
    "?np.arrange"
   ]
  },
  {
   "cell_type": "markdown",
   "id": "e99e25b5",
   "metadata": {},
   "source": [
    "Observe que os dois primeiros argumentos da função são início (*start*) e fim (*stop*). Assim, para criar um vetor começando em 1, e terminando em 5, podemos utilizar:"
   ]
  },
  {
   "cell_type": "code",
   "execution_count": null,
   "id": "8ca82527",
   "metadata": {},
   "outputs": [],
   "source": [
    "r1 = np.arange(1, 6)\n",
    "print(r1)"
   ]
  },
  {
   "cell_type": "markdown",
   "id": "eb66c6df",
   "metadata": {},
   "source": [
    "Observe que a sequência agora começa em 1 (incluso), e \"termina\" em 6 (não incluso)! O último número do intervalo não será incluído. \n",
    "\n",
    "Podemos ainda definir intervalos (argumento *step*). Por exemplo, criar uma sequência de 0.5 em 0.5, começando em 2 e terminando em 4. Para isso, podemos utilizar os três primeiros argumentos da função: número inicial (incluso), número final (não incluso) e intervalo.  \n",
    "\n",
    "Observe que, para incluir o valor 4 e não incluir 4.5, o segundo argumento *(stop)* deve estar entre 4 e 4.5. Optamos por deixar 4.5. "
   ]
  },
  {
   "cell_type": "code",
   "execution_count": null,
   "id": "165f4666",
   "metadata": {},
   "outputs": [],
   "source": [
    "q = np.arange(2,4.5,0.5)\n",
    "print(q)"
   ]
  },
  {
   "cell_type": "markdown",
   "id": "83e44650",
   "metadata": {},
   "source": [
    "Você pode mudar os parâmetros dos argumentos dentro da função. Teste os três próximos exemplos e observe os resultados:"
   ]
  },
  {
   "cell_type": "code",
   "execution_count": null,
   "id": "5be2fae9",
   "metadata": {},
   "outputs": [],
   "source": [
    "np.arange(1, 10, 2)"
   ]
  },
  {
   "cell_type": "code",
   "execution_count": null,
   "id": "52510519",
   "metadata": {},
   "outputs": [],
   "source": [
    "np.arange(1, 11)"
   ]
  },
  {
   "cell_type": "code",
   "execution_count": null,
   "id": "b0e4e1cf",
   "metadata": {},
   "outputs": [],
   "source": [
    "np.arange(1, 9, 3.141593)"
   ]
  },
  {
   "cell_type": "markdown",
   "id": "5adcc8c2",
   "metadata": {},
   "source": [
    "Além dos exemplos acima, podemos criar sequências regulares dentro de um intervalo. Nesse caso, precisamos usar a função *linspace*. \n",
    "\n",
    "Vamos usar os quatro primeiros argumentos da função: Início, Fim, Número de intervalos, e inclusão ou não do ponto final (*endpoint*). \n",
    "\n",
    "Teste as opções abaixo e observe os resultados:"
   ]
  },
  {
   "cell_type": "code",
   "execution_count": null,
   "id": "fe3ddc1f",
   "metadata": {},
   "outputs": [],
   "source": [
    "np.linspace(0, 1, num=2, endpoint=False)"
   ]
  },
  {
   "cell_type": "code",
   "execution_count": null,
   "id": "069ec2b9",
   "metadata": {},
   "outputs": [],
   "source": [
    "np.linspace(0, 1, num=2, endpoint=True)"
   ]
  },
  {
   "cell_type": "code",
   "execution_count": null,
   "id": "4f55a9f1",
   "metadata": {},
   "outputs": [],
   "source": [
    "np.linspace(0, 1, num=3, endpoint=True)"
   ]
  },
  {
   "cell_type": "code",
   "execution_count": null,
   "id": "4f945099",
   "metadata": {},
   "outputs": [],
   "source": [
    "np.linspace(0, 1, num=4, endpoint=True)"
   ]
  },
  {
   "cell_type": "code",
   "execution_count": null,
   "id": "23a2c524",
   "metadata": {},
   "outputs": [],
   "source": [
    "np.linspace(0, 1, num=5, endpoint=True)"
   ]
  },
  {
   "cell_type": "markdown",
   "id": "69cf2fed",
   "metadata": {},
   "source": [
    "**Experimente criar um vetor começando em 0 e terminando em 100, com intervalos de 10 em 10**"
   ]
  },
  {
   "cell_type": "markdown",
   "id": "fa0ced90",
   "metadata": {},
   "source": [
    "Alguns tipos de vetores são necessários em alguns cálculos. Você pode utilizar outras funções para criar um vetor de zeros (*np.zeros*), ou um vetor apenas com o número 1 (*np.ones*):"
   ]
  },
  {
   "cell_type": "code",
   "execution_count": null,
   "id": "66246c9f",
   "metadata": {},
   "outputs": [],
   "source": [
    "np.zeros(5)"
   ]
  },
  {
   "cell_type": "code",
   "execution_count": null,
   "id": "60249653",
   "metadata": {},
   "outputs": [],
   "source": [
    "np.ones(5)"
   ]
  },
  {
   "cell_type": "markdown",
   "id": "b7535eb9",
   "metadata": {},
   "source": [
    "Podemos verificar todas as variáveis criadas com o comando %whos: "
   ]
  },
  {
   "cell_type": "code",
   "execution_count": null,
   "id": "5d3058da",
   "metadata": {},
   "outputs": [],
   "source": [
    "%whos"
   ]
  },
  {
   "cell_type": "markdown",
   "id": "985d9d44",
   "metadata": {},
   "source": [
    "Observe que para as funções `linespace()`, `zeros()`, e `ones()` não salvamos variáveis, e, por isso, elas não estão disponíveis no ambiente. "
   ]
  },
  {
   "cell_type": "markdown",
   "id": "6798f9f4",
   "metadata": {},
   "source": [
    "## 5.2. Indexação e subconjuntos de vetores\n",
    "\n",
    "Após a criação de vetores, é possível selecionar um elemento específico (ou elementos) considerando a posição ou valor.\n",
    "\n",
    "Crie um vetor **g** com os elementos [\"Curso\", \"Python\", \"NEDUR\", 2022]:"
   ]
  },
  {
   "cell_type": "code",
   "execution_count": null,
   "id": "3c9e415e",
   "metadata": {},
   "outputs": [],
   "source": [
    "g = np.array([\"Curso\", \"Python\", \"NEDUR\", 2022, \"Agosto\"])"
   ]
  },
  {
   "cell_type": "markdown",
   "id": "4873b6c8",
   "metadata": {},
   "source": [
    "Observe que, nesse caso, todos os elementos do vetor serão salvos como *strings* (texto). \n",
    "\n",
    "Assim como nas listas, a primeira posição de um vetor é a posição zero. Sendo assim, considerando o vetor **g**, podemos verificar o terceiro elemento (localizado na posição 2) com a seguinte notação:"
   ]
  },
  {
   "cell_type": "code",
   "execution_count": null,
   "id": "4aa449c1",
   "metadata": {},
   "outputs": [],
   "source": [
    "g[2]"
   ]
  },
  {
   "cell_type": "markdown",
   "id": "bb54d49d",
   "metadata": {},
   "source": [
    "Podemos também utilizar os índices começando do final do vetor. Por exemplo, \"NEDUR\" está na posição 2, ou -2: "
   ]
  },
  {
   "cell_type": "code",
   "execution_count": null,
   "id": "dbdc2bd2",
   "metadata": {},
   "outputs": [],
   "source": [
    "g[-2]"
   ]
  },
  {
   "cell_type": "markdown",
   "id": "0b31fe13",
   "metadata": {},
   "source": [
    "Similarmente, podemos verificar os elementos contidos entre as posições 1 e 3, ou, dito de outro forma, selecionar o subconjunto de elementos entre as posições 1 e 3:"
   ]
  },
  {
   "cell_type": "code",
   "execution_count": null,
   "id": "af519f0c",
   "metadata": {},
   "outputs": [],
   "source": [
    "g[1:4]"
   ]
  },
  {
   "cell_type": "markdown",
   "id": "c40db50e",
   "metadata": {},
   "source": [
    "Novamente, repare que o último elemento (posição 4), não foi incluído, assim como, não foi incluído o elemento de índice zero. \n",
    "    \n",
    "Podemos também, criar um novo vetor com uma seleção do anterior, atribuindo um novo nome para a variável, nesse caso *n*:"
   ]
  },
  {
   "cell_type": "code",
   "execution_count": null,
   "id": "3e572cd3",
   "metadata": {},
   "outputs": [],
   "source": [
    "n = g[1:4]\n",
    "n"
   ]
  },
  {
   "cell_type": "markdown",
   "id": "95495cfc",
   "metadata": {},
   "source": [
    "No caso de vetores numéricos, podemos selecionar utilizando operadores. \n",
    "\n",
    "Por exemplo, vamos recuperar o vetor de 0 a 100, com múltiplos de 9:"
   ]
  },
  {
   "cell_type": "code",
   "execution_count": null,
   "id": "21b96a1f",
   "metadata": {},
   "outputs": [],
   "source": [
    "m = np.arange(0, 100, 9)\n",
    "m"
   ]
  },
  {
   "cell_type": "markdown",
   "id": "56103272",
   "metadata": {},
   "source": [
    "Se quisermos selecionar apenas os elementos maiores do que 20 poderíamos tentar o código:"
   ]
  },
  {
   "cell_type": "code",
   "execution_count": null,
   "id": "891bd602",
   "metadata": {},
   "outputs": [],
   "source": [
    "m > 20"
   ]
  },
  {
   "cell_type": "markdown",
   "id": "9b36cf55",
   "metadata": {},
   "source": [
    "No entando, o resultado mostra que os primeiros três números não são menores do que 20, mas não seleciona o que queremos. \n",
    "\n",
    "Para que o comando seja compreendido, precisamos informar que queremos *m > 20* dentro do vetor *m*. Ou seja: "
   ]
  },
  {
   "cell_type": "code",
   "execution_count": null,
   "id": "3d02af9f",
   "metadata": {},
   "outputs": [],
   "source": [
    "m[m > 20]"
   ]
  },
  {
   "cell_type": "markdown",
   "id": "dd619922",
   "metadata": {},
   "source": [
    "## 5.3. Operações com vetores\n",
    "\n",
    "Assim como foi feito com as variáveis, é possível realizar operações aritméticas e lógicas com os vetores. Para tal, defina um vetor **k** com os seguintes elementos [2, 4, 6, 8, 10]: "
   ]
  },
  {
   "cell_type": "code",
   "execution_count": null,
   "id": "8124b34c",
   "metadata": {},
   "outputs": [],
   "source": [
    "k = np.arange(2, 11, 2)\n",
    "k"
   ]
  },
  {
   "cell_type": "markdown",
   "id": "66752ec2",
   "metadata": {},
   "source": [
    "**Insira linhas de código abaixo e experimente realizar as seguintes operações:**\n",
    "- Multiplicar o vetor **k** por 2;\n",
    "- Dividir o vetor **k** por 2;\n",
    "- Somar `1`;\n",
    "- Subtrair `1`."
   ]
  },
  {
   "cell_type": "markdown",
   "id": "d32f05ce",
   "metadata": {},
   "source": [
    "Além das operações acima, podemos realizar operações com mais de um vetor, como somar dois vetores. Para tal, defina um vetor **s** conforme abaixo:"
   ]
  },
  {
   "cell_type": "code",
   "execution_count": null,
   "id": "b85793c9",
   "metadata": {},
   "outputs": [],
   "source": [
    "s = np.array([1, 2, 3, 4, 5])"
   ]
  },
  {
   "cell_type": "markdown",
   "id": "f9caebcf",
   "metadata": {},
   "source": [
    "Em seguida, **insira uma célula de código abaixo e crie um novo vetor** **b** que seja dado pela soma de **k** e **s**. "
   ]
  },
  {
   "cell_type": "markdown",
   "id": "46936617",
   "metadata": {},
   "source": [
    "Além das operações aritméticas, **operações lógicas** também podem ser realizadas com os vetores. Considerando o vetor **b** criado acima, **insira uma célula de código abaixo e verifique quais elementos são maiores ou iguais a 9**:"
   ]
  },
  {
   "cell_type": "markdown",
   "id": "1591e892",
   "metadata": {},
   "source": [
    "Repare que o resultado encontrado foi True (verdadeiro) para os elementos maiores ou iguais a 9 e False (falso) caso contrário. Ou seja, a operação reporta um resultado lógico.\n",
    "\n",
    "Como anteriormente, se o interesse for reportar os valores maiores ou iguais a 9, **como poderíamos selecionar esses elementos?**"
   ]
  },
  {
   "cell_type": "markdown",
   "id": "2784d451",
   "metadata": {},
   "source": [
    "Se o interesse for encontrar a posição desses valores maiores ou iguais a 9, você pode utilizar a função `np.where()`. Nesse caso, o resultado será \"3 4 5\", ou seja, os elementos maiores ou iguais a 9 são aqueles nas posições 3, 4 e 5, como mostra o código abaixo.  "
   ]
  },
  {
   "cell_type": "code",
   "execution_count": null,
   "id": "be006d7d",
   "metadata": {},
   "outputs": [],
   "source": [
    "np.where(b >= 9)"
   ]
  },
  {
   "cell_type": "markdown",
   "id": "762f8079",
   "metadata": {},
   "source": [
    "## 5.4. Funções com vetores  \n",
    "\n",
    "Diversas funções matemáticas e estatísticas podem ser aplicadas aos vetores numéricos, como soma, média, valor máximo, mínimo, quantis, entre outras.\n",
    "\n",
    "A tabela abaixo apresenta algumas dessas funções:\n",
    "\n",
    "Função             | Descrição\n",
    ":------------------|:------------\n",
    "`np.sum()` \t       | Retorna a soma do vetor\n",
    "`np.min()`\t       | Retorna o valor mínimo do vetor\n",
    "`np.max()`   \t   | Retorna o valor máximo do vetor\n",
    "`np.mean()`        | Retorna a média do vetor\n",
    "`np.median()`      | Retorna a mediana do vetor\n",
    "`np.var()` \t       | Retorna a variância do vetor\n",
    "`np.std()`         | Retorna o desvio padrão do vetor\n",
    "\n",
    "Para praticar alguns desses operadores vamos utilizar o vetor **k** definido anteriomente:"
   ]
  },
  {
   "cell_type": "code",
   "execution_count": null,
   "id": "bf85e5dc",
   "metadata": {},
   "outputs": [],
   "source": [
    "k"
   ]
  },
  {
   "cell_type": "code",
   "execution_count": null,
   "id": "081ca320",
   "metadata": {},
   "outputs": [],
   "source": [
    "np.sum(k)"
   ]
  },
  {
   "cell_type": "code",
   "execution_count": null,
   "id": "0f17f57d",
   "metadata": {},
   "outputs": [],
   "source": [
    "np.min(k)"
   ]
  },
  {
   "cell_type": "code",
   "execution_count": null,
   "id": "5e35985a",
   "metadata": {},
   "outputs": [],
   "source": [
    "np.max(k)"
   ]
  },
  {
   "cell_type": "code",
   "execution_count": null,
   "id": "daf17a49",
   "metadata": {},
   "outputs": [],
   "source": [
    "np.mean(k)"
   ]
  },
  {
   "cell_type": "code",
   "execution_count": null,
   "id": "b935aa73",
   "metadata": {},
   "outputs": [],
   "source": [
    "np.median(k)"
   ]
  },
  {
   "cell_type": "code",
   "execution_count": null,
   "id": "451563a2",
   "metadata": {},
   "outputs": [],
   "source": [
    "np.var(k)"
   ]
  },
  {
   "cell_type": "code",
   "execution_count": null,
   "id": "6c9f3d23",
   "metadata": {},
   "outputs": [],
   "source": [
    "np.std(k)"
   ]
  },
  {
   "cell_type": "markdown",
   "id": "db8a1bcc",
   "metadata": {},
   "source": [
    "Essas mesmas funções e outras podem ser utilizadas tanto para vetores quanto para matrizes, que serão o tema do próximo tópico. "
   ]
  }
 ],
 "metadata": {
  "kernelspec": {
   "display_name": "Python 3 (ipykernel)",
   "language": "python",
   "name": "python3"
  },
  "language_info": {
   "codemirror_mode": {
    "name": "ipython",
    "version": 3
   },
   "file_extension": ".py",
   "mimetype": "text/x-python",
   "name": "python",
   "nbconvert_exporter": "python",
   "pygments_lexer": "ipython3",
   "version": "3.9.12"
  }
 },
 "nbformat": 4,
 "nbformat_minor": 5
}
