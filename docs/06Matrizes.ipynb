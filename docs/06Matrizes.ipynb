{
 "cells": [
  {
   "cell_type": "markdown",
   "id": "dddf8754",
   "metadata": {},
   "source": [
    "# 6. Matrizes\n",
    "\n",
    "## 6.1. Criação de matrizes\n",
    "\n",
    "Aqui vem uma boa notícia! Você já sabe criar matrizes! Em **Python**, o pacote mais utilizado para criar matrizes é o **Numpy**, que já foi utilizado no tópico anterior, e a função para criação de matrizes é **np.array**. \n",
    "\n",
    "Se você está em um novo *Notebook*, será necessário importar novamente o pacote **Numpy**: "
   ]
  },
  {
   "cell_type": "code",
   "execution_count": null,
   "id": "73e5670a",
   "metadata": {},
   "outputs": [],
   "source": [
    "import numpy as np"
   ]
  },
  {
   "cell_type": "markdown",
   "id": "8a1fc6e3",
   "metadata": {},
   "source": [
    "Para começar, vamos criar uma matriz com uma sequência de números de 1 a 9 e, em seguida, visualizar a matriz com a função `print()`: "
   ]
  },
  {
   "cell_type": "code",
   "execution_count": null,
   "id": "bf734abb",
   "metadata": {},
   "outputs": [],
   "source": [
    "V1 = np.array([[1, 2, 3],[4, 5, 6],[7, 8, 9]])\n",
    "print(V1)"
   ]
  },
  {
   "cell_type": "markdown",
   "id": "8e86d8d2",
   "metadata": {},
   "source": [
    "Para criar esses mesmos números de forma automática, precisamos aplicar duas funções. Primeiro a dunção `np.arange()`, que cria uma sequência em um vetor, e, sem seguida, a função `reshape()`, que altera o formato de um vetor para uma matriz *3 x 3*:"
   ]
  },
  {
   "cell_type": "code",
   "execution_count": null,
   "id": "d84850fd",
   "metadata": {},
   "outputs": [],
   "source": [
    "V2 = np.arange(1, 10).reshape(3, 3)\n",
    "print(V1)"
   ]
  },
  {
   "cell_type": "markdown",
   "id": "ca46614a",
   "metadata": {},
   "source": [
    "Matrizes também podem ser criadas a partir da combinação de vetores. Considere, por exemplo, os vetores **c1** e **c2**:"
   ]
  },
  {
   "cell_type": "code",
   "execution_count": null,
   "id": "ecbe5607",
   "metadata": {},
   "outputs": [],
   "source": [
    "c1 = np.array([-1, 4])\n",
    "c2 = np.array([3, 2])"
   ]
  },
  {
   "cell_type": "markdown",
   "id": "7e50e485",
   "metadata": {},
   "source": [
    "Com auxílio da função `np.column_stack()`, podemos combinar os dois vetores da seguinte forma:"
   ]
  },
  {
   "cell_type": "code",
   "execution_count": null,
   "id": "9709a7e1",
   "metadata": {},
   "outputs": [],
   "source": [
    "Xc = np.column_stack((c1,c2))"
   ]
  },
  {
   "cell_type": "markdown",
   "id": "c2073894",
   "metadata": {},
   "source": [
    "Repare que a função `np.column_stack()` combina o vetores pelas colunas. Ou seja, nesse caso, as colunas da matrix **Xv** serão dadas pelos vetores **c1** e **c2**:"
   ]
  },
  {
   "cell_type": "code",
   "execution_count": null,
   "id": "fe1f003f",
   "metadata": {},
   "outputs": [],
   "source": [
    "print(Xc)"
   ]
  },
  {
   "cell_type": "markdown",
   "id": "24c0d7c7",
   "metadata": {},
   "source": [
    "A função `np.row_stack()`, por sua vez, combina os vetores pelas linhas. \n",
    "\n",
    "**Complete o código abaixo fazendo a combinação entre os vetores c1 e c2 por linhas e depois utilize a função `print()` para visualizar os resultados**"
   ]
  },
  {
   "cell_type": "code",
   "execution_count": null,
   "id": "36742b0c",
   "metadata": {},
   "outputs": [],
   "source": [
    "Xr = np.row_stack()\n",
    "print()"
   ]
  },
  {
   "cell_type": "markdown",
   "id": "0a10563b",
   "metadata": {},
   "source": [
    "Alguns tipos de matrizes são muito úteis, como, por exemplo, a matriz identidade. \n",
    "\n",
    "Podemos criá-la com a função `np.eye()`:"
   ]
  },
  {
   "cell_type": "code",
   "execution_count": null,
   "id": "a088b3ff",
   "metadata": {},
   "outputs": [],
   "source": [
    "ide = np.eye(3)\n",
    "print(ide)"
   ]
  },
  {
   "cell_type": "markdown",
   "id": "0777ed66",
   "metadata": {},
   "source": [
    "Também é muito útil criar uma matriz preenchida apenas com o número 1. Podemos criar uma matriz *5 x 5 (5 linhas e 5 colunas)* com a função `np.ones()`: "
   ]
  },
  {
   "cell_type": "code",
   "execution_count": null,
   "id": "53dc07bc",
   "metadata": {},
   "outputs": [],
   "source": [
    "uns = np.ones((5, 5))\n",
    "print(uns)"
   ]
  },
  {
   "cell_type": "markdown",
   "id": "0c3f4881",
   "metadata": {},
   "source": [
    "Ou uma matriz de zeros com `np.zeros`:"
   ]
  },
  {
   "cell_type": "code",
   "execution_count": null,
   "id": "84a116e0",
   "metadata": {},
   "outputs": [],
   "source": [
    "zeros = np.zeros((5, 5))\n",
    "print(zeros)"
   ]
  },
  {
   "cell_type": "markdown",
   "id": "76c0ea21",
   "metadata": {},
   "source": [
    "Ou ainda, uma matriz com algum elemento ou conjunto de elementos desejado, com a função `np.full()`: "
   ]
  },
  {
   "cell_type": "code",
   "execution_count": null,
   "id": "abaeafa4",
   "metadata": {},
   "outputs": [],
   "source": [
    "curso = np.full((2, 2), [\"Python\", \"Nedur\"])\n",
    "print(curso)"
   ]
  },
  {
   "cell_type": "markdown",
   "id": "8704a6da",
   "metadata": {},
   "source": [
    "Para qualquer umas dessas matrizes, podemos checar seu tamanho utilizando a função `np.shape()`. \n",
    "\n",
    "**Insira uma linha de código abaixo e verifique o tamanho das matrizes criadas até agora.**"
   ]
  },
  {
   "cell_type": "markdown",
   "id": "ac974073",
   "metadata": {},
   "source": [
    "Existem vários outros tipos de funções para criação e manipulação de matrizes, todas estão disponíveis na [documentação do **Numpy**](https://numpy.org/doc/stable/reference/routines.html). "
   ]
  },
  {
   "cell_type": "markdown",
   "id": "25c82032",
   "metadata": {},
   "source": [
    "## 6.2. Indexação de Matrizes \n",
    "\n",
    "As matrizes podem ser manipuladas da mesma forma que os vetores. As indexações são feitas utilizando a mesma lógica.\n",
    "\n",
    "Para começar, vamos criar uma matriz *C* de dimensão *10 x 10* com números de 1 a 100: "
   ]
  },
  {
   "cell_type": "code",
   "execution_count": null,
   "id": "24833081",
   "metadata": {},
   "outputs": [],
   "source": [
    "C = np.arange(1, 101).reshape(10, 10).T\n",
    "print(C)"
   ]
  },
  {
   "cell_type": "markdown",
   "id": "a0bdcf51",
   "metadata": {},
   "source": [
    "Repare que para criar a matriz começamos criando um vetor com uma sequência que começaa em 1 (incluso) e vai até 101 (não incluso), depois mudamos o formato para uma matriz *10 x 10* e, por fim, utilizamos o atributo **T**, que transpõe a matriz criada. Nas próximas seções trataremos de outras operações e funções com matrizes. \n",
    "\n",
    "Para selecionar o elemento da primeira linha da segunda coluna, por exemplo, a seguinte indexação pode ser usada:"
   ]
  },
  {
   "cell_type": "code",
   "execution_count": null,
   "id": "aca71d1e",
   "metadata": {},
   "outputs": [],
   "source": [
    "C[0, 1]"
   ]
  },
  {
   "cell_type": "markdown",
   "id": "b65721f4",
   "metadata": {},
   "source": [
    "O mesmo resultado pode ser obtido com: "
   ]
  },
  {
   "cell_type": "code",
   "execution_count": null,
   "id": "2e44a76b",
   "metadata": {},
   "outputs": [],
   "source": [
    "C[0][1]"
   ]
  },
  {
   "cell_type": "markdown",
   "id": "1e3094d9",
   "metadata": {},
   "source": [
    "A terceira linha da matriz **C**, por sua vez, pode ser selecionada com:"
   ]
  },
  {
   "cell_type": "code",
   "execution_count": null,
   "id": "83ad31d0",
   "metadata": {},
   "outputs": [],
   "source": [
    "C[2, : ]"
   ]
  },
  {
   "cell_type": "markdown",
   "id": "11e98dc0",
   "metadata": {},
   "source": [
    "Ou com: "
   ]
  },
  {
   "cell_type": "code",
   "execution_count": null,
   "id": "bdfead24",
   "metadata": {},
   "outputs": [],
   "source": [
    "C[2]"
   ]
  },
  {
   "cell_type": "markdown",
   "id": "06dce1e9",
   "metadata": {},
   "source": [
    "As linhas de 2 a 4 podem ser obtidas com:"
   ]
  },
  {
   "cell_type": "code",
   "execution_count": null,
   "id": "ddb9bf72",
   "metadata": {},
   "outputs": [],
   "source": [
    "C[1:4]"
   ]
  },
  {
   "cell_type": "markdown",
   "id": "35a9b47a",
   "metadata": {},
   "source": [
    "Para selecionar apenas a primeira coluna da matriz **C**, a seguinte indexação pode ser usada:"
   ]
  },
  {
   "cell_type": "code",
   "execution_count": null,
   "id": "d5ed5582",
   "metadata": {},
   "outputs": [],
   "source": [
    "C[ : ,0]"
   ]
  },
  {
   "cell_type": "markdown",
   "id": "143dd1b6",
   "metadata": {},
   "source": [
    "E para selecionar apenas as colunas 1 a 3:"
   ]
  },
  {
   "cell_type": "code",
   "execution_count": null,
   "id": "f9ff81e8",
   "metadata": {},
   "outputs": [],
   "source": [
    "C[ : ,0:3]"
   ]
  },
  {
   "cell_type": "markdown",
   "id": "02edd088",
   "metadata": {},
   "source": [
    "## 6.3. Operações com matrizes\n",
    "\n",
    "Similarmente aos vetores, operações aritméticas e lógicas também são usadas com as matrizes.\n",
    "\n",
    "Considere novamente a matriz **C**:"
   ]
  },
  {
   "cell_type": "code",
   "execution_count": null,
   "id": "24d4029c",
   "metadata": {},
   "outputs": [],
   "source": [
    "print(C)"
   ]
  },
  {
   "cell_type": "markdown",
   "id": "cad766c1",
   "metadata": {},
   "source": [
    "**Insira células de código abaixo para realizar as seguintes operações:**\n",
    "- Multiplicar a matriz **C** por 10;\n",
    "- Dividir a matriz **C** por 10; \n",
    "- Somar 10;\n",
    "- Subtrair 10. "
   ]
  },
  {
   "cell_type": "markdown",
   "id": "0352844e",
   "metadata": {},
   "source": [
    "Além disso, operações lógicas também podem ser usadas com as matrizes de forma similar aos vetores. \n",
    "**Insira uma célula de código abaixo e crie uma matriz que contenha apenas os valores da matriz C que são maiores do que 50.**"
   ]
  },
  {
   "cell_type": "markdown",
   "id": "4263ae76",
   "metadata": {},
   "source": [
    "Além disso, todas as mesmas funções matemáticas e estatísticas utilizadas em vetores podem ser utilizadas em um **array** de qualquer dimensão: \n",
    "\n",
    "A tabela abaixo apresenta algumas dessas funções:\n",
    "\n",
    "Função             | Descrição\n",
    ":------------------|:------------\n",
    "`np.sum()` \t       | Retorna a soma do vetor\n",
    "`np.min()`\t       | Retorna o valor mínimo do vetor\n",
    "`np.max()`   \t   | Retorna o valor máximo do vetor\n",
    "`np.mean()`        | Retorna a média do vetor\n",
    "`np.median()`      | Retorna a mediana do vetor\n",
    "`np.var()` \t       | Retorna a variância do vetor\n",
    "`np.std()`         | Retorna o desvio padrão do vetor\n"
   ]
  },
  {
   "cell_type": "markdown",
   "id": "d421c040",
   "metadata": {},
   "source": [
    "**Insira células abaixo e utilize funções `sum()`, `mean()`, `std()`, `min()` e `max()` para retornar a soma, média, desvio padrão, mínimo e máximo da matriz C**"
   ]
  },
  {
   "cell_type": "markdown",
   "id": "f87c7e55",
   "metadata": {},
   "source": [
    "<div class=\"alert alert-info\"> \n",
    "    \n",
    "**Observação:**\n",
    "    \n",
    "A função `np.sum` também pode ser usada para somar as linhas (`axis=1`) ou colunas (`axis=0`). Observe que o atributo *axis* da função refere-se a uma dimensão do *array* multidimensional (*Ndimensional array*) que utilizamos tanto para vetores, quanto para matrizes (sim, você pode usar a mesma função para criar objetos multidimencionais). Veja alguns exemplos abaixo. \n",
    "\n",
    "</div>  "
   ]
  },
  {
   "cell_type": "markdown",
   "id": "23536978",
   "metadata": {},
   "source": [
    "Para soma de colunas: "
   ]
  },
  {
   "cell_type": "code",
   "execution_count": null,
   "id": "921b0e6e",
   "metadata": {},
   "outputs": [],
   "source": [
    "np.sum(C, axis=0)"
   ]
  },
  {
   "cell_type": "markdown",
   "id": "5fe9fc59",
   "metadata": {},
   "source": [
    "E para a soma das linhas:"
   ]
  },
  {
   "cell_type": "code",
   "execution_count": null,
   "id": "86bd97d5",
   "metadata": {},
   "outputs": [],
   "source": [
    "np.sum(C, axis=1)"
   ]
  },
  {
   "cell_type": "markdown",
   "id": "fdbbe128",
   "metadata": {},
   "source": [
    "## 6.4. Algebra matricial\n",
    "\n",
    "No caso de matrizes, algumas operações são importantes, como obter a matriz transposta, a matriz inversa, ou fazer uma multiplicação matricial. \n",
    "\n",
    "Para essas operações, vamos usar a matriz **A**:"
   ]
  },
  {
   "cell_type": "code",
   "execution_count": null,
   "id": "3430a55d",
   "metadata": {},
   "outputs": [],
   "source": [
    "A = np.array([[1, 2], [3, 4]])\n",
    "print(A)"
   ]
  },
  {
   "cell_type": "markdown",
   "id": "a29001a1",
   "metadata": {},
   "source": [
    "Como vimos anteriormente (na seção 6.2, ao criar a matriz **C**), para obter a matriz transposta de **A**, podemos simplemente utilizar: "
   ]
  },
  {
   "cell_type": "code",
   "execution_count": null,
   "id": "7577b265",
   "metadata": {},
   "outputs": [],
   "source": [
    "A.T"
   ]
  },
  {
   "cell_type": "markdown",
   "id": "f64032d3",
   "metadata": {},
   "source": [
    "Para obter a inversa de **A**: "
   ]
  },
  {
   "cell_type": "code",
   "execution_count": null,
   "id": "e8d15275",
   "metadata": {},
   "outputs": [],
   "source": [
    "np.linalg.inv(A)"
   ]
  },
  {
   "cell_type": "markdown",
   "id": "781a4b37",
   "metadata": {},
   "source": [
    "Para obter o determinante da matriz **A**: "
   ]
  },
  {
   "cell_type": "code",
   "execution_count": null,
   "id": "4370491d",
   "metadata": {},
   "outputs": [],
   "source": [
    "np.linalg.det(A)"
   ]
  },
  {
   "cell_type": "markdown",
   "id": "b771f8d8",
   "metadata": {},
   "source": [
    "A multiplicação de matrizes pode ser obtida pela função `np.matmul`. \n",
    "\n",
    "Para isso vamos criar um vetor **B** de dimensão *2x1*, e, em seguida, pré-multiplicar **A** por **B**:  "
   ]
  },
  {
   "cell_type": "code",
   "execution_count": null,
   "id": "cdb8ac5a",
   "metadata": {},
   "outputs": [],
   "source": [
    "B = [10, 1]\n",
    "np.matmul(A,B)"
   ]
  },
  {
   "cell_type": "markdown",
   "id": "6c9c701a",
   "metadata": {},
   "source": [
    "Lembre-se de que a multiplicação de uma matriz *2x2* por um vetor *2x1* resulta em um vetor *2x1*, como obtido acima. Se estiver em dúvida sobre o tamanho das matrizes que está multiplicando, utilize a função `np.shape`."
   ]
  }
 ],
 "metadata": {
  "kernelspec": {
   "display_name": "Python 3 (ipykernel)",
   "language": "python",
   "name": "python3"
  },
  "language_info": {
   "codemirror_mode": {
    "name": "ipython",
    "version": 3
   },
   "file_extension": ".py",
   "mimetype": "text/x-python",
   "name": "python",
   "nbconvert_exporter": "python",
   "pygments_lexer": "ipython3",
   "version": "3.9.12"
  }
 },
 "nbformat": 4,
 "nbformat_minor": 5
}
