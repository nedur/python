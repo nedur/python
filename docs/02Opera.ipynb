{
 "cells": [
  {
   "cell_type": "markdown",
   "metadata": {},
   "source": [
    "# 2. Operações Básicas\n",
    "\n",
    "Você pode fazer várias operações básicas usando **Python**. Os principais operadores aritméticos e lógicos estão descritos abaixo, seguidos de alguns exemplos. \n",
    "\n",
    "## 2.1. Operadores aritméticos\n",
    "\n",
    "A tabela a seguir resume os principais operadores aritméticos usados em **Python**.\n",
    "\n",
    "Operadores   | Descrição\n",
    ":------------|:----------------\n",
    "`+` \t     | Adição\n",
    "`-`\t         | Subtração\n",
    "`*`\t         | Multiplicação\n",
    "`/`\t         | Divisão\n",
    "`**`         | Exponencial\n",
    "`//`         | Divisão Inteira  \n",
    "\n",
    "**Exemplos:**\n",
    "\n",
    "Faça as operações abaixo no *Jupyter Notebook*, observe os resultados e lembre-se de manter os comandos no seu *Script*. Após digitar a operação em uma célula `In[#]`, clique no botão `Run` no menu, ou utilize o atalho <kbd>shift</kbd> + <kbd>enter</kbd>. As saídas serão reportadas na linha seguinte em `Out[#]:`. \n",
    "\n",
    "- **Adição** `+`:"
   ]
  },
  {
   "cell_type": "code",
   "execution_count": null,
   "metadata": {},
   "outputs": [],
   "source": [
    "2 + 2"
   ]
  },
  {
   "cell_type": "markdown",
   "metadata": {},
   "source": [
    "Repare que ao executar (*Run*) pela primeira vez a linha de comando, aparece o número 1 em `In[1]:`,e também em `Out[1]:`. Esse número marca a sequência de células que você executou, como mostra a figura abaixo: \n",
    "\n",
    "![JupyterNotebook6](JupyterNotebook6.png)\n",
    "\n",
    "Execute novamente a mesma operação e veja que o número irá mudar para 2. Essa sequência permite que você execute trechos da programação separadamente e mantenha um registro da ordem que cada célula foi executada. \n",
    "\n",
    "Vamos retomar as operações básicas!\n",
    "\n",
    "- **Subtração** `-`:"
   ]
  },
  {
   "cell_type": "code",
   "execution_count": null,
   "metadata": {},
   "outputs": [],
   "source": [
    "4 - 2"
   ]
  },
  {
   "cell_type": "markdown",
   "metadata": {},
   "source": [
    "- **Divisão**`/`:"
   ]
  },
  {
   "cell_type": "code",
   "execution_count": null,
   "metadata": {},
   "outputs": [],
   "source": [
    "4 / 2"
   ]
  },
  {
   "cell_type": "markdown",
   "metadata": {},
   "source": [
    "- **Multiplicação** `*`"
   ]
  },
  {
   "cell_type": "code",
   "execution_count": null,
   "metadata": {},
   "outputs": [],
   "source": [
    "3 * 2"
   ]
  },
  {
   "cell_type": "markdown",
   "metadata": {},
   "source": [
    "- **Divisão** `/`:  "
   ]
  },
  {
   "cell_type": "code",
   "execution_count": null,
   "metadata": {},
   "outputs": [],
   "source": [
    "4 / 2 "
   ]
  },
  {
   "cell_type": "markdown",
   "metadata": {},
   "source": [
    "- **Exponencial** `**`"
   ]
  },
  {
   "cell_type": "code",
   "execution_count": null,
   "metadata": {},
   "outputs": [],
   "source": [
    "4 ** 2 "
   ]
  },
  {
   "cell_type": "markdown",
   "metadata": {},
   "source": [
    "- **Divisão inteira** `//` (inteiro da divisão do termo da esquerda pelo termo da direita): "
   ]
  },
  {
   "cell_type": "code",
   "execution_count": null,
   "metadata": {},
   "outputs": [],
   "source": [
    "7 // 2"
   ]
  },
  {
   "cell_type": "markdown",
   "metadata": {},
   "source": [
    "## 2.2. Operadores lógicos\n",
    "\n",
    "A tabela abaixo resume os principais operadores lógicos usados em **Python**.\n",
    "\n",
    "Operador    |\tDescrição\n",
    ":-----------|:----------------------\n",
    "`==`        |  Exatamente igual que\n",
    "`>`\t        |  Maior que\n",
    "`<`\t        |  Menor que\n",
    "`>=`        |  Maior ou igual que\n",
    "`<=`        |  Menor ou igual que\n",
    "`!=`        |  Diferente\n",
    "`!`         |  \"Não\"\n",
    "`&` \t    |  \"E\"\n",
    "`\\|`\t        |  \"OU\"\n",
    "\n",
    "**Exemplos**:\n",
    "\n",
    "Similarmente ao que foi feito com os operadores aritméticos, faça as operações abaixo no seu **Jupyter Notebook** e observe os resultados: "
   ]
  },
  {
   "cell_type": "code",
   "execution_count": null,
   "metadata": {},
   "outputs": [],
   "source": [
    "5 == 5"
   ]
  },
  {
   "cell_type": "code",
   "execution_count": null,
   "metadata": {},
   "outputs": [],
   "source": [
    "5 == 4"
   ]
  },
  {
   "cell_type": "code",
   "execution_count": null,
   "metadata": {},
   "outputs": [],
   "source": [
    "5 > 4"
   ]
  },
  {
   "cell_type": "code",
   "execution_count": null,
   "metadata": {},
   "outputs": [],
   "source": [
    "5 > 6"
   ]
  },
  {
   "cell_type": "code",
   "execution_count": null,
   "metadata": {},
   "outputs": [],
   "source": [
    "5 > 5"
   ]
  },
  {
   "cell_type": "code",
   "execution_count": null,
   "metadata": {},
   "outputs": [],
   "source": [
    "5 >= 5"
   ]
  },
  {
   "cell_type": "code",
   "execution_count": null,
   "metadata": {},
   "outputs": [],
   "source": [
    "6 < 10"
   ]
  },
  {
   "cell_type": "code",
   "execution_count": null,
   "metadata": {},
   "outputs": [],
   "source": [
    "6 < 5"
   ]
  },
  {
   "cell_type": "code",
   "execution_count": null,
   "metadata": {},
   "outputs": [],
   "source": [
    "6 < 6"
   ]
  },
  {
   "cell_type": "code",
   "execution_count": null,
   "metadata": {},
   "outputs": [],
   "source": [
    "5 <= 5"
   ]
  },
  {
   "cell_type": "markdown",
   "metadata": {},
   "source": [
    "Os mesmos operadores podem ser utilizados para variáveis do tipo *string*. Nesse caso, o resultado depende da ordem dessas variáveis no alfabeto. Por exemplo: "
   ]
  },
  {
   "cell_type": "code",
   "execution_count": null,
   "metadata": {},
   "outputs": [],
   "source": [
    "\"Python\" > \"C++\""
   ]
  },
  {
   "cell_type": "markdown",
   "metadata": {},
   "source": [
    "A linguagem *Python* é sensível ao uso de letras maiúsculas e minúsculas. Observe o exemplo: "
   ]
  },
  {
   "cell_type": "code",
   "execution_count": null,
   "metadata": {},
   "outputs": [],
   "source": [
    "\"Python\" == \"python\""
   ]
  }
 ],
 "metadata": {
  "kernelspec": {
   "display_name": "Python 3 (ipykernel)",
   "language": "python",
   "name": "python3"
  },
  "language_info": {
   "codemirror_mode": {
    "name": "ipython",
    "version": 3
   },
   "file_extension": ".py",
   "mimetype": "text/x-python",
   "name": "python",
   "nbconvert_exporter": "python",
   "pygments_lexer": "ipython3",
   "version": "3.9.12"
  },
  "toc": {
   "base_numbering": 1,
   "nav_menu": {
    "height": "126px",
    "width": "307px"
   },
   "number_sections": false,
   "sideBar": true,
   "skip_h1_title": false,
   "title_cell": "Table of Contents",
   "title_sidebar": "Sumário",
   "toc_cell": false,
   "toc_position": {
    "height": "757px",
    "left": "817px",
    "top": "215.125px",
    "width": "512px"
   },
   "toc_section_display": true,
   "toc_window_display": true
  }
 },
 "nbformat": 4,
 "nbformat_minor": 4
}
